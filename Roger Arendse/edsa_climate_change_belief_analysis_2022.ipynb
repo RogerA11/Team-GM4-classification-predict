{
 "cells": [
  {
   "cell_type": "markdown",
   "id": "93552bc8-6828-4d86-a9c8-39df1eb78b4e",
   "metadata": {},
   "source": [
    "# EDSA - Climate Change Belief Analysis 2022\n",
    "\n",
    "© Explore Data Science Academy\n",
    "\n",
    "---\n",
    "### Honour Code\n",
    "\n",
    "We as Team *2201FTDS_GM4* consisting of {**Alette Baloyi, Nkoka Khosa, Precious Montsha, Mahlatse Philix Ramabopa, Roger Arendse, and Wezo Ntsokota**}, confirm - by submitting this document - that the solutions in this notebook are a result of our own work and that we abide by the [EDSA honour code](https://drive.google.com/file/d/1QDCjGZJ8-FmJE3bZdIQNwnJyQKPhHZBn/view?usp=sharing).\n",
    "\n",
    "Non-compliance with the honour code constitutes a material breach of contract.\n"
   ]
  },
  {
   "cell_type": "markdown",
   "id": "76287bd9-b95a-4ee1-92b1-5d0ef56a91e2",
   "metadata": {},
   "source": [
    "<a id=\"cont\"></a>\n",
    "\n",
    "## Table of Contents\n",
    "\n",
    "<a href=#one>1. Importing Packages</a>\n",
    "\n",
    "<a href=#two>2. Loading Data</a>\n",
    "\n",
    "<a href=#three>3. Exploratory Data Analysis (EDA)</a>\n",
    "\n",
    "<a href=#four>4. Data Engineering</a>\n",
    "\n",
    "<a href=#five>5. Modeling</a>\n",
    "\n",
    "<a href=#six>6. Model Performance</a>\n",
    "\n",
    "<a href=#seven>7. Model Explanations</a>\n",
    "\n",
    "<a href=#eight>8. Pipeline Developement</a>\n",
    "\n",
    "<a href=#nine>9. Preparing the test data and submission file </a>\n",
    "\n",
    "<a href=#ten>10. Final Thoughts and reccomendations</a>\n",
    "\n"
   ]
  },
  {
   "cell_type": "markdown",
   "id": "b0c88750-f5f2-42d7-807f-16f6dfacffad",
   "metadata": {},
   "source": [
    "## Data Description\n",
    "\n",
    "The collection of this data was funded by a Canada Foundation for Innovation JELF Grant to Chris Bauch, University of Waterloo. The dataset aggregates tweets pertaining to climate change collected between **Apr 27, 2015 and Feb 21, 2018.** In total, 43943 tweets were collected. Each tweet is labelled as one of the following classes:\n",
    "\n",
    "Class Description\n",
    "* 2 News: the tweet links to factual news about climate change\n",
    "* 1 Pro: the tweet supports the belief of man-made climate change\n",
    "* 0 Neutral: the tweet neither supports nor refutes the belief of man-made climate change\n",
    "* -1 Anti: the tweet does not believe in man-made climate change\n",
    "\n",
    "Variable definitions\n",
    "- sentiment: Sentiment of tweet\n",
    "- message: Tweet body\n",
    "- tweetid: Twitter unique id\n"
   ]
  },
  {
   "cell_type": "markdown",
   "id": "5e697650-1d72-48c4-bd7f-aa457ad33d86",
   "metadata": {},
   "source": [
    " <a id=\"one\"></a>\n",
    "## 1. Importing Packages\n",
    "<a href=#cont>Back to Table of Contents</a>\n",
    "\n"
   ]
  },
  {
   "cell_type": "code",
   "execution_count": 100,
   "id": "73951b10",
   "metadata": {},
   "outputs": [
    {
     "name": "stderr",
     "output_type": "stream",
     "text": [
      "COMET WARNING: Comet has disabled auto-logging functionality as it has been imported after the following ML modules: sklearn. Metrics and hyperparameters can still be logged using comet_ml.log_metrics() and comet_ml.log_parameters()\n",
      "COMET INFO: ---------------------------\n",
      "COMET INFO: Comet.ml Experiment Summary\n",
      "COMET INFO: ---------------------------\n",
      "COMET INFO:   Data:\n",
      "COMET INFO:     display_summary_level : 1\n",
      "COMET INFO:     url                   : https://www.comet.ml/rogera11/climate-change-belief-analysis/d4cd6c49b8cd46228875d754cf63e064\n",
      "COMET INFO:   Uploads:\n",
      "COMET INFO:     environment details : 1\n",
      "COMET INFO:     filename            : 1\n",
      "COMET INFO:     git metadata        : 1\n",
      "COMET INFO:     installed packages  : 1\n",
      "COMET INFO:     notebook            : 1\n",
      "COMET INFO:     source_code         : 1\n",
      "COMET INFO: ---------------------------\n",
      "COMET WARNING: Comet has disabled auto-logging functionality as it has been imported after the following ML modules: sklearn. Metrics and hyperparameters can still be logged using comet_ml.log_metrics() and comet_ml.log_parameters()\n",
      "COMET WARNING: As you are running in a Jupyter environment, you will need to call `experiment.end()` when finished to ensure all metrics and code are logged before exiting.\n",
      "COMET INFO: Experiment is live on comet.ml https://www.comet.ml/rogera11/climate-change-belief-analysis/616441fda3934817b5ce7926d9748bbe\n",
      "\n"
     ]
    }
   ],
   "source": [
    "# import comet library\n",
    "from comet_ml import Experiment\n",
    "\n",
    "# Create an experiment with your api key\n",
    "experiment = Experiment(\n",
    "    api_key=\"bNwa2OhTiQhx360XIO0hT5BLI\",\n",
    "    project_name=\"climate-change-belief-analysis\",\n",
    "    workspace=\"rogera11\",\n",
    ")"
   ]
  },
  {
   "cell_type": "code",
   "execution_count": 127,
   "id": "0b63439a-aa90-4e0e-aab8-c1ff5a95a88f",
   "metadata": {},
   "outputs": [],
   "source": [
    "\n",
    "# importing basic libraries\n",
    "import numpy as np\n",
    "import pandas as pd\n",
    "import matplotlib.pyplot as plt\n",
    "import seaborn as sns\n",
    "\n",
    "# import nlp libraries\n",
    "import nltk\n",
    "import string\n",
    "import re\n",
    "\n",
    "# model libraries\n",
    "import sklearn\n",
    "from sklearn.linear_model import LogisticRegression\n",
    "from sklearn.neighbors import KNeighborsClassifier\n",
    "from sklearn.ensemble import RandomForestClassifier\n",
    "from sklearn.ensemble import GradientBoostingClassifier\n",
    "from sklearn.naive_bayes import MultinomialNB\n",
    "from sklearn.pipeline import Pipeline\n",
    "from sklearn.model_selection import train_test_split\n",
    "from sklearn.metrics import classification_report\n",
    "from sklearn.feature_extraction.text import CountVectorizer\n",
    "from sklearn.feature_extraction.text import TfidfVectorizer\n",
    "from sklearn.feature_extraction.text import TfidfTransformer\n",
    "from sklearn import metrics\n",
    "from sklearn.metrics import f1_score\n",
    "from sklearn.metrics import accuracy_score \n",
    "\n",
    "# Set plot style\n",
    "sns.set()\n"
   ]
  },
  {
   "cell_type": "markdown",
   "id": "517b5211-8932-4b1f-8299-5c16a116bd55",
   "metadata": {},
   "source": [
    "<a id=\"two\"></a>\n",
    "## 2. Loading the Data\n",
    "<a class=\"anchor\" id=\"1.1\"></a>\n",
    "<a href=#cont>Back to Table of Contents</a>\n"
   ]
  },
  {
   "cell_type": "code",
   "execution_count": 30,
   "id": "bc4447a6-5fda-446f-8326-91ab1aa54ce8",
   "metadata": {},
   "outputs": [],
   "source": [
    "\n",
    "# define training data\n",
    "train_df = pd.read_csv(\"train.csv\")\n"
   ]
  },
  {
   "cell_type": "code",
   "execution_count": 31,
   "id": "ef70888f-99d5-4a09-b7f0-74e54abaab48",
   "metadata": {},
   "outputs": [],
   "source": [
    "\n",
    "# define testing data \n",
    "test_df = pd.read_csv(\"test.csv\")\n"
   ]
  },
  {
   "cell_type": "markdown",
   "id": "60d9f9c9-a7f8-4ed5-b8ac-3fb53f6bb47e",
   "metadata": {},
   "source": [
    "<a id=\"three\"></a>\n",
    "## 3. Exploratory Data Analysis (EDA)\n",
    "<a class=\"anchor\" id=\"1.1\"></a>\n",
    "<a href=#cont>Back to Table of Contents</a>\n"
   ]
  },
  {
   "cell_type": "code",
   "execution_count": 32,
   "id": "37b5206c-13c0-464b-8a9d-b3119090e8fa",
   "metadata": {},
   "outputs": [
    {
     "data": {
      "text/html": [
       "<div>\n",
       "<style scoped>\n",
       "    .dataframe tbody tr th:only-of-type {\n",
       "        vertical-align: middle;\n",
       "    }\n",
       "\n",
       "    .dataframe tbody tr th {\n",
       "        vertical-align: top;\n",
       "    }\n",
       "\n",
       "    .dataframe thead th {\n",
       "        text-align: right;\n",
       "    }\n",
       "</style>\n",
       "<table border=\"1\" class=\"dataframe\">\n",
       "  <thead>\n",
       "    <tr style=\"text-align: right;\">\n",
       "      <th></th>\n",
       "      <th>sentiment</th>\n",
       "      <th>message</th>\n",
       "      <th>tweetid</th>\n",
       "    </tr>\n",
       "  </thead>\n",
       "  <tbody>\n",
       "    <tr>\n",
       "      <th>0</th>\n",
       "      <td>1</td>\n",
       "      <td>PolySciMajor EPA chief doesn't think carbon di...</td>\n",
       "      <td>625221</td>\n",
       "    </tr>\n",
       "    <tr>\n",
       "      <th>1</th>\n",
       "      <td>1</td>\n",
       "      <td>It's not like we lack evidence of anthropogeni...</td>\n",
       "      <td>126103</td>\n",
       "    </tr>\n",
       "    <tr>\n",
       "      <th>2</th>\n",
       "      <td>2</td>\n",
       "      <td>RT @RawStory: Researchers say we have three ye...</td>\n",
       "      <td>698562</td>\n",
       "    </tr>\n",
       "    <tr>\n",
       "      <th>3</th>\n",
       "      <td>1</td>\n",
       "      <td>#TodayinMaker# WIRED : 2016 was a pivotal year...</td>\n",
       "      <td>573736</td>\n",
       "    </tr>\n",
       "    <tr>\n",
       "      <th>4</th>\n",
       "      <td>1</td>\n",
       "      <td>RT @SoyNovioDeTodas: It's 2016, and a racist, ...</td>\n",
       "      <td>466954</td>\n",
       "    </tr>\n",
       "  </tbody>\n",
       "</table>\n",
       "</div>"
      ],
      "text/plain": [
       "   sentiment                                            message  tweetid\n",
       "0          1  PolySciMajor EPA chief doesn't think carbon di...   625221\n",
       "1          1  It's not like we lack evidence of anthropogeni...   126103\n",
       "2          2  RT @RawStory: Researchers say we have three ye...   698562\n",
       "3          1  #TodayinMaker# WIRED : 2016 was a pivotal year...   573736\n",
       "4          1  RT @SoyNovioDeTodas: It's 2016, and a racist, ...   466954"
      ]
     },
     "execution_count": 32,
     "metadata": {},
     "output_type": "execute_result"
    }
   ],
   "source": [
    "\n",
    "# view training data\n",
    "train_df.head()\n"
   ]
  },
  {
   "cell_type": "code",
   "execution_count": 33,
   "id": "28790b2e-62b4-4154-9965-e1c6fa8e023f",
   "metadata": {},
   "outputs": [
    {
     "data": {
      "text/html": [
       "<div>\n",
       "<style scoped>\n",
       "    .dataframe tbody tr th:only-of-type {\n",
       "        vertical-align: middle;\n",
       "    }\n",
       "\n",
       "    .dataframe tbody tr th {\n",
       "        vertical-align: top;\n",
       "    }\n",
       "\n",
       "    .dataframe thead th {\n",
       "        text-align: right;\n",
       "    }\n",
       "</style>\n",
       "<table border=\"1\" class=\"dataframe\">\n",
       "  <thead>\n",
       "    <tr style=\"text-align: right;\">\n",
       "      <th></th>\n",
       "      <th>message</th>\n",
       "      <th>tweetid</th>\n",
       "    </tr>\n",
       "  </thead>\n",
       "  <tbody>\n",
       "    <tr>\n",
       "      <th>0</th>\n",
       "      <td>Europe will now be looking to China to make su...</td>\n",
       "      <td>169760</td>\n",
       "    </tr>\n",
       "    <tr>\n",
       "      <th>1</th>\n",
       "      <td>Combine this with the polling of staffers re c...</td>\n",
       "      <td>35326</td>\n",
       "    </tr>\n",
       "    <tr>\n",
       "      <th>2</th>\n",
       "      <td>The scary, unimpeachable evidence that climate...</td>\n",
       "      <td>224985</td>\n",
       "    </tr>\n",
       "    <tr>\n",
       "      <th>3</th>\n",
       "      <td>@Karoli @morgfair @OsborneInk @dailykos \\r\\nPu...</td>\n",
       "      <td>476263</td>\n",
       "    </tr>\n",
       "    <tr>\n",
       "      <th>4</th>\n",
       "      <td>RT @FakeWillMoore: 'Female orgasms cause globa...</td>\n",
       "      <td>872928</td>\n",
       "    </tr>\n",
       "  </tbody>\n",
       "</table>\n",
       "</div>"
      ],
      "text/plain": [
       "                                             message  tweetid\n",
       "0  Europe will now be looking to China to make su...   169760\n",
       "1  Combine this with the polling of staffers re c...    35326\n",
       "2  The scary, unimpeachable evidence that climate...   224985\n",
       "3  @Karoli @morgfair @OsborneInk @dailykos \\r\\nPu...   476263\n",
       "4  RT @FakeWillMoore: 'Female orgasms cause globa...   872928"
      ]
     },
     "execution_count": 33,
     "metadata": {},
     "output_type": "execute_result"
    }
   ],
   "source": [
    "# view testing data\n",
    "test_df.head()"
   ]
  },
  {
   "cell_type": "code",
   "execution_count": 34,
   "id": "fcca2660-3ec4-4e2c-91b7-9eaf2eb83b2d",
   "metadata": {},
   "outputs": [
    {
     "name": "stdout",
     "output_type": "stream",
     "text": [
      "Train shape: (15819, 3)\n",
      "Test shape: (10546, 2)\n"
     ]
    }
   ],
   "source": [
    "\n",
    "# view train and test datasets shape\n",
    "print('Train shape: {}'.format(train_df.shape))\n",
    "print('Test shape: {}'.format(test_df.shape))\n"
   ]
  },
  {
   "cell_type": "code",
   "execution_count": 35,
   "id": "d52bac45-440e-442e-bbe7-93c7dee0605d",
   "metadata": {},
   "outputs": [
    {
     "name": "stdout",
     "output_type": "stream",
     "text": [
      "<class 'pandas.core.frame.DataFrame'>\n",
      "RangeIndex: 15819 entries, 0 to 15818\n",
      "Data columns (total 3 columns):\n",
      " #   Column     Non-Null Count  Dtype \n",
      "---  ------     --------------  ----- \n",
      " 0   sentiment  15819 non-null  int64 \n",
      " 1   message    15819 non-null  object\n",
      " 2   tweetid    15819 non-null  int64 \n",
      "dtypes: int64(2), object(1)\n",
      "memory usage: 370.9+ KB\n"
     ]
    }
   ],
   "source": [
    "\n",
    "# view training info\n",
    "train_df.info()\n"
   ]
  },
  {
   "cell_type": "code",
   "execution_count": 36,
   "id": "bdf6f57e-2e90-4b32-a6e3-a3a0d8eebfc4",
   "metadata": {},
   "outputs": [
    {
     "name": "stdout",
     "output_type": "stream",
     "text": [
      "<class 'pandas.core.frame.DataFrame'>\n",
      "RangeIndex: 10546 entries, 0 to 10545\n",
      "Data columns (total 2 columns):\n",
      " #   Column   Non-Null Count  Dtype \n",
      "---  ------   --------------  ----- \n",
      " 0   message  10546 non-null  object\n",
      " 1   tweetid  10546 non-null  int64 \n",
      "dtypes: int64(1), object(1)\n",
      "memory usage: 164.9+ KB\n"
     ]
    }
   ],
   "source": [
    "\n",
    "# view test info\n",
    "test_df.info()\n"
   ]
  },
  {
   "cell_type": "markdown",
   "id": "18d45932-61c9-480f-83df-78ca98613354",
   "metadata": {},
   "source": [
    "### 3.1 Looking at Data Statistics"
   ]
  },
  {
   "cell_type": "code",
   "execution_count": 37,
   "id": "6378239c-a716-4b2a-8848-2dd102ff099b",
   "metadata": {},
   "outputs": [
    {
     "data": {
      "text/plain": [
       "sentiment    0\n",
       "message      0\n",
       "tweetid      0\n",
       "dtype: int64"
      ]
     },
     "execution_count": 37,
     "metadata": {},
     "output_type": "execute_result"
    }
   ],
   "source": [
    "\n",
    "# view missing values in train_df\n",
    "train_df.isnull().sum()\n"
   ]
  },
  {
   "cell_type": "code",
   "execution_count": 38,
   "id": "6378239c-a716-4b2a-8848-2dd102ff099b",
   "metadata": {},
   "outputs": [
    {
     "data": {
      "text/plain": [
       "message    0\n",
       "tweetid    0\n",
       "dtype: int64"
      ]
     },
     "execution_count": 38,
     "metadata": {},
     "output_type": "execute_result"
    }
   ],
   "source": [
    "\n",
    "# view missing values in test_df\n",
    "test_df.isnull().sum()\n"
   ]
  },
  {
   "cell_type": "code",
   "execution_count": 39,
   "id": "8e8565a3-5473-4545-967c-31a4d251812d",
   "metadata": {},
   "outputs": [
    {
     "name": "stdout",
     "output_type": "stream",
     "text": [
      "[1, 2, 0, -1]\n"
     ]
    }
   ],
   "source": [
    "\n",
    "# Print off a list of all sentiment classes present in this dataset.\n",
    "class_labels = list(train_df.sentiment.unique())\n",
    "print(class_labels)\n"
   ]
  },
  {
   "cell_type": "code",
   "execution_count": 13,
   "id": "c2d756a5-f47e-46f3-8469-351b75eae6ff",
   "metadata": {},
   "outputs": [
    {
     "data": {
      "image/png": "[encoded data removed]",
      "text/plain": [
       "<Figure size 432x288 with 1 Axes>"
      ]
     },
     "metadata": {},
     "output_type": "display_data"
    }
   ],
   "source": [
    "\n",
    "# plot the bar graph to see the distribution of our 'df_train' sentiment.\n",
    "labels = ['1', '2','0','-1']\n",
    "bargraph = df_train[\"sentiment\"].value_counts()\n",
    "bargraph.plot(kind = \"bar\", title = \"Number of Tweets v/s Sentiments\", xlabel = \"Sentiments\", ylabel = \"Count\")\n",
    "plt.show()\n"
   ]
  },
  {
   "cell_type": "code",
   "execution_count": 40,
   "id": "e85394c2-db82-4efa-8740-66c349dc177c",
   "metadata": {},
   "outputs": [
    {
     "data": {
      "image/png": "[encoded data removed]",
      "text/plain": [
       "<Figure size 432x288 with 1 Axes>"
      ]
     },
     "metadata": {},
     "output_type": "display_data"
    }
   ],
   "source": [
    "\n",
    "# Plotting the bar graph to see the distrinution of our 'train_df' sentiment with our classses arragend.\n",
    "sns.barplot(x = bargraph.index, y = bargraph, data = train_df).set_title(\"Tweets v/s Sentiments\")\n",
    "plt.ylabel(\"Count\")\n",
    "plt.xlabel(\"Sentiments\")\n",
    "plt.show()\n"
   ]
  },
  {
   "cell_type": "markdown",
   "id": "f5064ba5-044c-44ec-bd57-3b91af3b6400",
   "metadata": {},
   "source": [
    "### 3.2 Data Cleaning\n",
    "#### 3.2.1 Removing Noise and Making Lowercase\n",
    "\n",
    "- Removing website links"
   ]
  },
  {
   "cell_type": "code",
   "execution_count": 41,
   "id": "86c66b66-33af-4d99-8cc6-494165d72344",
   "metadata": {},
   "outputs": [
    {
     "data": {
      "text/html": [
       "<div>\n",
       "<style scoped>\n",
       "    .dataframe tbody tr th:only-of-type {\n",
       "        vertical-align: middle;\n",
       "    }\n",
       "\n",
       "    .dataframe tbody tr th {\n",
       "        vertical-align: top;\n",
       "    }\n",
       "\n",
       "    .dataframe thead th {\n",
       "        text-align: right;\n",
       "    }\n",
       "</style>\n",
       "<table border=\"1\" class=\"dataframe\">\n",
       "  <thead>\n",
       "    <tr style=\"text-align: right;\">\n",
       "      <th></th>\n",
       "      <th>sentiment</th>\n",
       "      <th>message</th>\n",
       "      <th>tweetid</th>\n",
       "    </tr>\n",
       "  </thead>\n",
       "  <tbody>\n",
       "    <tr>\n",
       "      <th>0</th>\n",
       "      <td>1</td>\n",
       "      <td>PolySciMajor EPA chief doesn't think carbon di...</td>\n",
       "      <td>625221</td>\n",
       "    </tr>\n",
       "    <tr>\n",
       "      <th>1</th>\n",
       "      <td>1</td>\n",
       "      <td>It's not like we lack evidence of anthropogeni...</td>\n",
       "      <td>126103</td>\n",
       "    </tr>\n",
       "  </tbody>\n",
       "</table>\n",
       "</div>"
      ],
      "text/plain": [
       "   sentiment                                            message  tweetid\n",
       "0          1  PolySciMajor EPA chief doesn't think carbon di...   625221\n",
       "1          1  It's not like we lack evidence of anthropogeni...   126103"
      ]
     },
     "execution_count": 41,
     "metadata": {},
     "output_type": "execute_result"
    }
   ],
   "source": [
    "\n",
    "# Removing the website link using 'regex' and replace it with \"url-web\"\n",
    "pattern_url = r\"http[s]?://(?:[A-Za-z]|[0-9]|[$-_@.&+]|[!*\\(\\),]|(?:%[0-9A-Fa-f][0-9A-Fa-f]))+\"\n",
    "subs_url = r\"url-web\"\n",
    "train_df[\"message\"] = train_df[\"message\"].replace(to_replace=pattern_url, value=subs_url, regex=True)\n",
    "\n",
    "train_df.head(2)\n"
   ]
  },
  {
   "cell_type": "code",
   "execution_count": 42,
   "id": "86c66b66-33af-4d99-8cc6-494165d72344",
   "metadata": {},
   "outputs": [
    {
     "data": {
      "text/html": [
       "<div>\n",
       "<style scoped>\n",
       "    .dataframe tbody tr th:only-of-type {\n",
       "        vertical-align: middle;\n",
       "    }\n",
       "\n",
       "    .dataframe tbody tr th {\n",
       "        vertical-align: top;\n",
       "    }\n",
       "\n",
       "    .dataframe thead th {\n",
       "        text-align: right;\n",
       "    }\n",
       "</style>\n",
       "<table border=\"1\" class=\"dataframe\">\n",
       "  <thead>\n",
       "    <tr style=\"text-align: right;\">\n",
       "      <th></th>\n",
       "      <th>message</th>\n",
       "      <th>tweetid</th>\n",
       "    </tr>\n",
       "  </thead>\n",
       "  <tbody>\n",
       "    <tr>\n",
       "      <th>0</th>\n",
       "      <td>Europe will now be looking to China to make su...</td>\n",
       "      <td>169760</td>\n",
       "    </tr>\n",
       "    <tr>\n",
       "      <th>1</th>\n",
       "      <td>Combine this with the polling of staffers re c...</td>\n",
       "      <td>35326</td>\n",
       "    </tr>\n",
       "  </tbody>\n",
       "</table>\n",
       "</div>"
      ],
      "text/plain": [
       "                                             message  tweetid\n",
       "0  Europe will now be looking to China to make su...   169760\n",
       "1  Combine this with the polling of staffers re c...    35326"
      ]
     },
     "execution_count": 42,
     "metadata": {},
     "output_type": "execute_result"
    }
   ],
   "source": [
    "\n",
    "# Removing the website link using 'regex' and replace it with \"url-web\" in test_df\n",
    "pattern_url = r\"http[s]?://(?:[A-Za-z]|[0-9]|[$-_@.&+]|[!*\\(\\),]|(?:%[0-9A-Fa-f][0-9A-Fa-f]))+\"\n",
    "subs_url = r\"url-web\"\n",
    "test_df[\"message\"] = test_df[\"message\"].replace(to_replace=pattern_url, value=subs_url, regex=True)\n",
    "\n",
    "test_df.head(2)\n"
   ]
  },
  {
   "cell_type": "code",
   "execution_count": 45,
   "id": "dfe0f210",
   "metadata": {},
   "outputs": [
    {
     "name": "stdout",
     "output_type": "stream",
     "text": [
      "Train url count: 9679\n",
      "Test url count: 6614\n"
     ]
    }
   ],
   "source": [
    "# for both train_df and test_df\n",
    "# count number of times url appears in message\n",
    "train = train_df.message.str.count('url').sum()\n",
    "test = test_df.message.str.count('url').sum()\n",
    "\n",
    "# view count\n",
    "print('Train ''url'' count: {}'.format(train))\n",
    "print('Test ''url'' count: {}'.format(test))"
   ]
  },
  {
   "cell_type": "code",
   "execution_count": 46,
   "id": "28222736",
   "metadata": {},
   "outputs": [],
   "source": [
    "# remove url in both train_df and test_df\n",
    "train_df[\"message\"] = train_df[\"message\"].str.replace('url', '')\n",
    "test_df[\"message\"] = test_df[\"message\"].str.replace('url', '')"
   ]
  },
  {
   "cell_type": "code",
   "execution_count": 47,
   "id": "b7228637",
   "metadata": {},
   "outputs": [
    {
     "name": "stdout",
     "output_type": "stream",
     "text": [
      "Train url count: 0\n",
      "Test url count: 0\n"
     ]
    }
   ],
   "source": [
    "# for both train_df and test_df\n",
    "# count number of times url appears in message\n",
    "train = train_df.message.str.count('url').sum()\n",
    "test = test_df.message.str.count('url').sum()\n",
    "\n",
    "# view count\n",
    "print('Train ''url'' count: {}'.format(train))\n",
    "print('Test ''url'' count: {}'.format(test))"
   ]
  },
  {
   "cell_type": "markdown",
   "id": "d840fcc9-05d4-42f7-b17c-611efab971bc",
   "metadata": {},
   "source": [
    "- Convert text to lowercase"
   ]
  },
  {
   "cell_type": "code",
   "execution_count": 48,
   "id": "04e322ba-6dae-4275-a88c-1d3f2169b7d3",
   "metadata": {},
   "outputs": [
    {
     "data": {
      "text/html": [
       "<div>\n",
       "<style scoped>\n",
       "    .dataframe tbody tr th:only-of-type {\n",
       "        vertical-align: middle;\n",
       "    }\n",
       "\n",
       "    .dataframe tbody tr th {\n",
       "        vertical-align: top;\n",
       "    }\n",
       "\n",
       "    .dataframe thead th {\n",
       "        text-align: right;\n",
       "    }\n",
       "</style>\n",
       "<table border=\"1\" class=\"dataframe\">\n",
       "  <thead>\n",
       "    <tr style=\"text-align: right;\">\n",
       "      <th></th>\n",
       "      <th>sentiment</th>\n",
       "      <th>message</th>\n",
       "      <th>tweetid</th>\n",
       "    </tr>\n",
       "  </thead>\n",
       "  <tbody>\n",
       "    <tr>\n",
       "      <th>0</th>\n",
       "      <td>1</td>\n",
       "      <td>polyscimajor epa chief doesn't think carbon di...</td>\n",
       "      <td>625221</td>\n",
       "    </tr>\n",
       "    <tr>\n",
       "      <th>1</th>\n",
       "      <td>1</td>\n",
       "      <td>it's not like we lack evidence of anthropogeni...</td>\n",
       "      <td>126103</td>\n",
       "    </tr>\n",
       "    <tr>\n",
       "      <th>2</th>\n",
       "      <td>2</td>\n",
       "      <td>rt @rawstory: researchers say we have three ye...</td>\n",
       "      <td>698562</td>\n",
       "    </tr>\n",
       "  </tbody>\n",
       "</table>\n",
       "</div>"
      ],
      "text/plain": [
       "   sentiment                                            message  tweetid\n",
       "0          1  polyscimajor epa chief doesn't think carbon di...   625221\n",
       "1          1  it's not like we lack evidence of anthropogeni...   126103\n",
       "2          2  rt @rawstory: researchers say we have three ye...   698562"
      ]
     },
     "execution_count": 48,
     "metadata": {},
     "output_type": "execute_result"
    }
   ],
   "source": [
    "\n",
    "# lowercase all characters in train_df\n",
    "train_df[\"message\"] = train_df[\"message\"].str.lower()\n",
    "train_df.head(3)\n"
   ]
  },
  {
   "cell_type": "code",
   "execution_count": 49,
   "id": "04e322ba-6dae-4275-a88c-1d3f2169b7d3",
   "metadata": {},
   "outputs": [
    {
     "data": {
      "text/html": [
       "<div>\n",
       "<style scoped>\n",
       "    .dataframe tbody tr th:only-of-type {\n",
       "        vertical-align: middle;\n",
       "    }\n",
       "\n",
       "    .dataframe tbody tr th {\n",
       "        vertical-align: top;\n",
       "    }\n",
       "\n",
       "    .dataframe thead th {\n",
       "        text-align: right;\n",
       "    }\n",
       "</style>\n",
       "<table border=\"1\" class=\"dataframe\">\n",
       "  <thead>\n",
       "    <tr style=\"text-align: right;\">\n",
       "      <th></th>\n",
       "      <th>message</th>\n",
       "      <th>tweetid</th>\n",
       "    </tr>\n",
       "  </thead>\n",
       "  <tbody>\n",
       "    <tr>\n",
       "      <th>0</th>\n",
       "      <td>europe will now be looking to china to make su...</td>\n",
       "      <td>169760</td>\n",
       "    </tr>\n",
       "    <tr>\n",
       "      <th>1</th>\n",
       "      <td>combine this with the polling of staffers re c...</td>\n",
       "      <td>35326</td>\n",
       "    </tr>\n",
       "    <tr>\n",
       "      <th>2</th>\n",
       "      <td>the scary, unimpeachable evidence that climate...</td>\n",
       "      <td>224985</td>\n",
       "    </tr>\n",
       "  </tbody>\n",
       "</table>\n",
       "</div>"
      ],
      "text/plain": [
       "                                             message  tweetid\n",
       "0  europe will now be looking to china to make su...   169760\n",
       "1  combine this with the polling of staffers re c...    35326\n",
       "2  the scary, unimpeachable evidence that climate...   224985"
      ]
     },
     "execution_count": 49,
     "metadata": {},
     "output_type": "execute_result"
    }
   ],
   "source": [
    "\n",
    "# lowercase all characters in test_df\n",
    "test_df[\"message\"] = test_df[\"message\"].str.lower()\n",
    "test_df.head(3)\n"
   ]
  },
  {
   "cell_type": "markdown",
   "id": "d1b17881-c096-41a1-a29e-65bcd71a43c8",
   "metadata": {},
   "source": [
    "- Removing punctuations"
   ]
  },
  {
   "cell_type": "code",
   "execution_count": 50,
   "id": "c3bbfefa-fd52-429e-8b72-9d88f17803bb",
   "metadata": {},
   "outputs": [],
   "source": [
    "\n",
    "# init punctuation in string library\n",
    "my_punct = string.punctuation\n",
    "\n",
    "# create function to remove puntuation\n",
    "def remove_punctuation(message):\n",
    "    return ''.join([l for l in message if l not in my_punct])\n"
   ]
  },
  {
   "cell_type": "code",
   "execution_count": 55,
   "id": "afbf69b3",
   "metadata": {},
   "outputs": [
    {
     "data": {
      "text/html": [
       "<div>\n",
       "<style scoped>\n",
       "    .dataframe tbody tr th:only-of-type {\n",
       "        vertical-align: middle;\n",
       "    }\n",
       "\n",
       "    .dataframe tbody tr th {\n",
       "        vertical-align: top;\n",
       "    }\n",
       "\n",
       "    .dataframe thead th {\n",
       "        text-align: right;\n",
       "    }\n",
       "</style>\n",
       "<table border=\"1\" class=\"dataframe\">\n",
       "  <thead>\n",
       "    <tr style=\"text-align: right;\">\n",
       "      <th></th>\n",
       "      <th>sentiment</th>\n",
       "      <th>message</th>\n",
       "      <th>tweetid</th>\n",
       "    </tr>\n",
       "  </thead>\n",
       "  <tbody>\n",
       "    <tr>\n",
       "      <th>0</th>\n",
       "      <td>1</td>\n",
       "      <td>polyscimajor epa chief doesnt think carbon dio...</td>\n",
       "      <td>625221</td>\n",
       "    </tr>\n",
       "    <tr>\n",
       "      <th>1</th>\n",
       "      <td>1</td>\n",
       "      <td>its not like we lack evidence of anthropogenic...</td>\n",
       "      <td>126103</td>\n",
       "    </tr>\n",
       "    <tr>\n",
       "      <th>2</th>\n",
       "      <td>2</td>\n",
       "      <td>rt rawstory researchers say we have three year...</td>\n",
       "      <td>698562</td>\n",
       "    </tr>\n",
       "    <tr>\n",
       "      <th>3</th>\n",
       "      <td>1</td>\n",
       "      <td>todayinmaker wired  2016 was a pivotal year in...</td>\n",
       "      <td>573736</td>\n",
       "    </tr>\n",
       "  </tbody>\n",
       "</table>\n",
       "</div>"
      ],
      "text/plain": [
       "   sentiment                                            message  tweetid\n",
       "0          1  polyscimajor epa chief doesnt think carbon dio...   625221\n",
       "1          1  its not like we lack evidence of anthropogenic...   126103\n",
       "2          2  rt rawstory researchers say we have three year...   698562\n",
       "3          1  todayinmaker wired  2016 was a pivotal year in...   573736"
      ]
     },
     "execution_count": 55,
     "metadata": {},
     "output_type": "execute_result"
    }
   ],
   "source": [
    "# remove punctuation in train_df\n",
    "train_df[\"message\"] = train_df[\"message\"].apply(remove_punctuation)\n",
    "train_df.head(4)"
   ]
  },
  {
   "cell_type": "code",
   "execution_count": 54,
   "id": "c3bbfefa-fd52-429e-8b72-9d88f17803bb",
   "metadata": {},
   "outputs": [
    {
     "data": {
      "text/html": [
       "<div>\n",
       "<style scoped>\n",
       "    .dataframe tbody tr th:only-of-type {\n",
       "        vertical-align: middle;\n",
       "    }\n",
       "\n",
       "    .dataframe tbody tr th {\n",
       "        vertical-align: top;\n",
       "    }\n",
       "\n",
       "    .dataframe thead th {\n",
       "        text-align: right;\n",
       "    }\n",
       "</style>\n",
       "<table border=\"1\" class=\"dataframe\">\n",
       "  <thead>\n",
       "    <tr style=\"text-align: right;\">\n",
       "      <th></th>\n",
       "      <th>message</th>\n",
       "      <th>tweetid</th>\n",
       "    </tr>\n",
       "  </thead>\n",
       "  <tbody>\n",
       "    <tr>\n",
       "      <th>0</th>\n",
       "      <td>europe will now be looking to china to make su...</td>\n",
       "      <td>169760</td>\n",
       "    </tr>\n",
       "    <tr>\n",
       "      <th>1</th>\n",
       "      <td>combine this with the polling of staffers re c...</td>\n",
       "      <td>35326</td>\n",
       "    </tr>\n",
       "    <tr>\n",
       "      <th>2</th>\n",
       "      <td>the scary unimpeachable evidence that climate ...</td>\n",
       "      <td>224985</td>\n",
       "    </tr>\n",
       "    <tr>\n",
       "      <th>3</th>\n",
       "      <td>karoli morgfair osborneink dailykos \\r\\nputin ...</td>\n",
       "      <td>476263</td>\n",
       "    </tr>\n",
       "  </tbody>\n",
       "</table>\n",
       "</div>"
      ],
      "text/plain": [
       "                                             message  tweetid\n",
       "0  europe will now be looking to china to make su...   169760\n",
       "1  combine this with the polling of staffers re c...    35326\n",
       "2  the scary unimpeachable evidence that climate ...   224985\n",
       "3  karoli morgfair osborneink dailykos \\r\\nputin ...   476263"
      ]
     },
     "execution_count": 54,
     "metadata": {},
     "output_type": "execute_result"
    }
   ],
   "source": [
    "# remove punctuation in test_df \n",
    "test_df[\"message\"] = test_df[\"message\"].apply(remove_punctuation)\n",
    "test_df.head(4)"
   ]
  },
  {
   "cell_type": "markdown",
   "id": "39353211",
   "metadata": {},
   "source": [
    "- Remove \\r\\n characters from string"
   ]
  },
  {
   "cell_type": "code",
   "execution_count": 56,
   "id": "01330c26",
   "metadata": {},
   "outputs": [
    {
     "name": "stdout",
     "output_type": "stream",
     "text": [
      "Train count: 25175\n",
      "Test count: 17318\n"
     ]
    }
   ],
   "source": [
    "# view occurance of \\r\\n in both train_df and test_df\n",
    "train = train_df.message.str.count(r'[^ \\w\\.]').sum()\n",
    "test = test_df.message.str.count(r'[^ \\w\\.]').sum()\n",
    "\n",
    "# view count\n",
    "print('Train count: {}'.format(train))\n",
    "print('Test count: {}'.format(test))"
   ]
  },
  {
   "cell_type": "code",
   "execution_count": 57,
   "id": "7614e224",
   "metadata": {},
   "outputs": [],
   "source": [
    "# remove \\r\\n characters in train_df\n",
    "pattern = r'[^ \\w\\.]'\n",
    "train_df[\"message\"] = train_df[\"message\"].replace(to_replace=pattern, value=' ', regex=True)"
   ]
  },
  {
   "cell_type": "code",
   "execution_count": 58,
   "id": "7614e224",
   "metadata": {},
   "outputs": [],
   "source": [
    "# remove \\r\\n characters in test_df\n",
    "pattern = r'[^ \\w\\.]'\n",
    "test_df[\"message\"] = test_df[\"message\"].replace(to_replace=pattern, value=' ', regex=True)"
   ]
  },
  {
   "cell_type": "code",
   "execution_count": 59,
   "id": "3bc0a809",
   "metadata": {},
   "outputs": [
    {
     "name": "stdout",
     "output_type": "stream",
     "text": [
      "Train count: 0\n",
      "Test count: 0\n"
     ]
    }
   ],
   "source": [
    "# view occurance of \\r\\n in both train_df and test_df again\n",
    "train = train_df.message.str.count(r'[^ \\w\\.]').sum()\n",
    "test = test_df.message.str.count(r'[^ \\w\\.]').sum()\n",
    "\n",
    "# view count\n",
    "print('Train count: {}'.format(train))\n",
    "print('Test count: {}'.format(test))"
   ]
  },
  {
   "cell_type": "markdown",
   "id": "780e2a1f",
   "metadata": {},
   "source": [
    "It worked!"
   ]
  },
  {
   "cell_type": "markdown",
   "id": "9d36fe78",
   "metadata": {},
   "source": [
    "- Remove all non-digit types"
   ]
  },
  {
   "cell_type": "code",
   "execution_count": 60,
   "id": "b13b6bca",
   "metadata": {},
   "outputs": [
    {
     "name": "stdout",
     "output_type": "stream",
     "text": [
      "Train count: 10201\n",
      "Test count: 7175\n"
     ]
    }
   ],
   "source": [
    "# view occurance of non letter types in both train_df and test_df\n",
    "train = train_df.message.str.count(r'[^a-zA-Z0-9 ]').sum()\n",
    "test = test_df.message.str.count(r'[^a-zA-Z0-9 ]').sum()\n",
    "\n",
    "# view count\n",
    "print('Train count: {}'.format(train))\n",
    "print('Test count: {}'.format(test))"
   ]
  },
  {
   "cell_type": "code",
   "execution_count": 61,
   "id": "720d5ed7",
   "metadata": {},
   "outputs": [],
   "source": [
    "# remove non-digit type characters from train_df\n",
    "pattern = r'[^a-zA-Z0-9 ]'\n",
    "train_df[\"message\"] = train_df[\"message\"].replace(to_replace=pattern, value='', regex=True)\n"
   ]
  },
  {
   "cell_type": "code",
   "execution_count": 62,
   "id": "15a8f0d2",
   "metadata": {},
   "outputs": [],
   "source": [
    "# remove non-digit types from test_df\n",
    "pattern = r'[^a-zA-Z0-9 ]'\n",
    "test_df[\"message\"] = test_df[\"message\"].replace(to_replace=pattern, value='', regex=True)"
   ]
  },
  {
   "cell_type": "code",
   "execution_count": 63,
   "id": "995b0f64",
   "metadata": {},
   "outputs": [
    {
     "name": "stdout",
     "output_type": "stream",
     "text": [
      "Train count: 0\n",
      "Test count: 0\n"
     ]
    }
   ],
   "source": [
    "# to see if it worked view occurance of non letter types in both train_df and test_df\n",
    "train = train_df.message.str.count(r'[^a-zA-Z0-9 ]').sum()\n",
    "test = test_df.message.str.count(r'[^a-zA-Z0-9 ]').sum()\n",
    "\n",
    "# view count\n",
    "print('Train count: {}'.format(train))\n",
    "print('Test count: {}'.format(test))"
   ]
  },
  {
   "cell_type": "code",
   "execution_count": 64,
   "id": "d8aea8a5",
   "metadata": {},
   "outputs": [
    {
     "data": {
      "text/html": [
       "<div>\n",
       "<style scoped>\n",
       "    .dataframe tbody tr th:only-of-type {\n",
       "        vertical-align: middle;\n",
       "    }\n",
       "\n",
       "    .dataframe tbody tr th {\n",
       "        vertical-align: top;\n",
       "    }\n",
       "\n",
       "    .dataframe thead th {\n",
       "        text-align: right;\n",
       "    }\n",
       "</style>\n",
       "<table border=\"1\" class=\"dataframe\">\n",
       "  <thead>\n",
       "    <tr style=\"text-align: right;\">\n",
       "      <th></th>\n",
       "      <th>sentiment</th>\n",
       "      <th>message</th>\n",
       "      <th>tweetid</th>\n",
       "    </tr>\n",
       "  </thead>\n",
       "  <tbody>\n",
       "    <tr>\n",
       "      <th>0</th>\n",
       "      <td>1</td>\n",
       "      <td>polyscimajor epa chief doesnt think carbon dio...</td>\n",
       "      <td>625221</td>\n",
       "    </tr>\n",
       "    <tr>\n",
       "      <th>1</th>\n",
       "      <td>1</td>\n",
       "      <td>its not like we lack evidence of anthropogenic...</td>\n",
       "      <td>126103</td>\n",
       "    </tr>\n",
       "    <tr>\n",
       "      <th>2</th>\n",
       "      <td>2</td>\n",
       "      <td>rt rawstory researchers say we have three year...</td>\n",
       "      <td>698562</td>\n",
       "    </tr>\n",
       "    <tr>\n",
       "      <th>3</th>\n",
       "      <td>1</td>\n",
       "      <td>todayinmaker wired  2016 was a pivotal year in...</td>\n",
       "      <td>573736</td>\n",
       "    </tr>\n",
       "    <tr>\n",
       "      <th>4</th>\n",
       "      <td>1</td>\n",
       "      <td>rt soynoviodetodas its 2016 and a racist sexis...</td>\n",
       "      <td>466954</td>\n",
       "    </tr>\n",
       "  </tbody>\n",
       "</table>\n",
       "</div>"
      ],
      "text/plain": [
       "   sentiment                                            message  tweetid\n",
       "0          1  polyscimajor epa chief doesnt think carbon dio...   625221\n",
       "1          1  its not like we lack evidence of anthropogenic...   126103\n",
       "2          2  rt rawstory researchers say we have three year...   698562\n",
       "3          1  todayinmaker wired  2016 was a pivotal year in...   573736\n",
       "4          1  rt soynoviodetodas its 2016 and a racist sexis...   466954"
      ]
     },
     "execution_count": 64,
     "metadata": {},
     "output_type": "execute_result"
    }
   ],
   "source": [
    "train_df.head()"
   ]
  },
  {
   "cell_type": "markdown",
   "id": "380172b6-91bc-42dd-92b8-164ba40e9403",
   "metadata": {},
   "source": [
    "#### 3.2.2 Tokenisation"
   ]
  },
  {
   "cell_type": "code",
   "execution_count": 76,
   "id": "4a8668fc-1697-42d9-ac8a-2dc20d3972b5",
   "metadata": {},
   "outputs": [],
   "source": [
    "\n",
    "# Importing the 'word_tokenize' library from the 'nltk' packages\n",
    "# from nltk.tokenize import word_tokenize, TreebankWordTokenizer\n",
    "\n",
    "# tokeniser = TreebankWordTokenizer()\n",
    "# df_train[\"tokens\"] = df_train[\"clean_message\"].apply(tokeniser.tokenize)\n",
    "\n",
    "# df_train.head()\n"
   ]
  },
  {
   "cell_type": "markdown",
   "id": "4a75389e-4df5-48e0-935b-09cf6bf40268",
   "metadata": {},
   "source": [
    "#### 3.2.3 Lemmatization\n"
   ]
  },
  {
   "cell_type": "code",
   "execution_count": 485,
   "id": "30b19e6c-fd62-4755-a0d0-f08ab61796b8",
   "metadata": {},
   "outputs": [
    {
     "name": "stderr",
     "output_type": "stream",
     "text": [
      "[nltk_data] Downloading package wordnet to C:\\Users\\Roger\n",
      "[nltk_data]     Arendse\\AppData\\Roaming\\nltk_data...\n",
      "[nltk_data]   Package wordnet is already up-to-date!\n"
     ]
    }
   ],
   "source": [
    "# # Importing relevant libraries\n",
    "# from nltk.tokenize import TreebankWordTokenizer\n",
    "# from nltk import pos_tag\n",
    "# from nltk.stem import WordNetLemmatizer\n",
    "\n",
    "# # Downloading the wordnet\n",
    "# nltk.download('wordnet')\n",
    "\n",
    "# # init tokenizer and lemmatizer\n",
    "# tokeniser = TreebankWordTokenizer()\n",
    "# lemmatizer = WordNetLemmatizer()"
   ]
  },
  {
   "cell_type": "code",
   "execution_count": 67,
   "id": "7dd87b7e",
   "metadata": {},
   "outputs": [],
   "source": [
    "# # tokenize string in c_df_train\n",
    "# c_df_train['tokens'] = c_df_train['message'].apply(tokeniser.tokenize)\n",
    "\n",
    "# # view c_df_train\n",
    "# c_df_train.head(2)"
   ]
  },
  {
   "cell_type": "code",
   "execution_count": 68,
   "id": "7dd87b7e",
   "metadata": {},
   "outputs": [],
   "source": [
    "# # tokenize string in c_df_test\n",
    "# c_df_test['tokens'] = c_df_test['message'].apply(tokeniser.tokenize)\n",
    "\n",
    "# # view c_df_test\n",
    "# c_df_test.head(2)"
   ]
  },
  {
   "cell_type": "code",
   "execution_count": 488,
   "id": "9d79302c",
   "metadata": {},
   "outputs": [],
   "source": [
    "# # create function to get the pos tag for lemmatization\n",
    "# def get_pos(word):\n",
    "#     tag = nltk.pos_tag([word])[0][1][0].upper()\n",
    "#     tag_dict = {\"J\": wordnet.ADJ,\n",
    "#                 \"N\": wordnet.NOUN,\n",
    "#                 \"V\": wordnet.VERB,\n",
    "#                 \"R\": wordnet.ADV}\n",
    "\n",
    "#     return tag_dict.get(tag, wordnet.NOUN)"
   ]
  },
  {
   "cell_type": "code",
   "execution_count": 66,
   "id": "ac6c3b6b",
   "metadata": {},
   "outputs": [],
   "source": [
    "# # c_df_train\n",
    "# c_df_train['lemma'] = [lemmatizer.lemmatize(w, get_pos(w)) for w in c_df_train['tokens']]"
   ]
  },
  {
   "cell_type": "code",
   "execution_count": null,
   "id": "e19dbfb6",
   "metadata": {},
   "outputs": [],
   "source": [
    "# # create function to lemmatize tokens\n",
    "# def lemma_token(df, column):\n",
    "\n",
    "#     # add new lemma column to df\n",
    "#     df['lemma'] = [lemmatizer.lemmatize(w, get_pos(w)) for w in df[column]]\n",
    "    \n",
    "#     # lemmatizer.lemmatize(w, get_wordnet_pos(w)) for w in tokens]\n",
    "#     return \n",
    "\n",
    "\n"
   ]
  },
  {
   "cell_type": "code",
   "execution_count": 65,
   "id": "24aef346",
   "metadata": {},
   "outputs": [],
   "source": [
    "# # lemmatize c_df_train\n",
    "# c_df_train[\"lemma\"] = c_df_train[\"tokens\"].apply(df_train_lemma, args=(lemmatizer,))\n",
    "# c_df_train.head()"
   ]
  },
  {
   "cell_type": "markdown",
   "id": "810e9f84-3440-43f4-9dff-3bf954aa6de6",
   "metadata": {},
   "source": [
    "<a id=\"five\"></a>\n",
    "## 5. Modelling\n",
    "<a class=\"anchor\" id=\"1.1\"></a>\n",
    "<a href=#cont>Back to Table of Contents</a>\n"
   ]
  },
  {
   "cell_type": "code",
   "execution_count": 71,
   "id": "80508178",
   "metadata": {},
   "outputs": [
    {
     "data": {
      "text/html": [
       "<div>\n",
       "<style scoped>\n",
       "    .dataframe tbody tr th:only-of-type {\n",
       "        vertical-align: middle;\n",
       "    }\n",
       "\n",
       "    .dataframe tbody tr th {\n",
       "        vertical-align: top;\n",
       "    }\n",
       "\n",
       "    .dataframe thead th {\n",
       "        text-align: right;\n",
       "    }\n",
       "</style>\n",
       "<table border=\"1\" class=\"dataframe\">\n",
       "  <thead>\n",
       "    <tr style=\"text-align: right;\">\n",
       "      <th></th>\n",
       "      <th>sentiment</th>\n",
       "      <th>message</th>\n",
       "      <th>tweetid</th>\n",
       "    </tr>\n",
       "  </thead>\n",
       "  <tbody>\n",
       "    <tr>\n",
       "      <th>0</th>\n",
       "      <td>1</td>\n",
       "      <td>polyscimajor epa chief doesnt think carbon dio...</td>\n",
       "      <td>625221</td>\n",
       "    </tr>\n",
       "    <tr>\n",
       "      <th>1</th>\n",
       "      <td>1</td>\n",
       "      <td>its not like we lack evidence of anthropogenic...</td>\n",
       "      <td>126103</td>\n",
       "    </tr>\n",
       "    <tr>\n",
       "      <th>2</th>\n",
       "      <td>2</td>\n",
       "      <td>rt rawstory researchers say we have three year...</td>\n",
       "      <td>698562</td>\n",
       "    </tr>\n",
       "    <tr>\n",
       "      <th>3</th>\n",
       "      <td>1</td>\n",
       "      <td>todayinmaker wired  2016 was a pivotal year in...</td>\n",
       "      <td>573736</td>\n",
       "    </tr>\n",
       "    <tr>\n",
       "      <th>4</th>\n",
       "      <td>1</td>\n",
       "      <td>rt soynoviodetodas its 2016 and a racist sexis...</td>\n",
       "      <td>466954</td>\n",
       "    </tr>\n",
       "  </tbody>\n",
       "</table>\n",
       "</div>"
      ],
      "text/plain": [
       "   sentiment                                            message  tweetid\n",
       "0          1  polyscimajor epa chief doesnt think carbon dio...   625221\n",
       "1          1  its not like we lack evidence of anthropogenic...   126103\n",
       "2          2  rt rawstory researchers say we have three year...   698562\n",
       "3          1  todayinmaker wired  2016 was a pivotal year in...   573736\n",
       "4          1  rt soynoviodetodas its 2016 and a racist sexis...   466954"
      ]
     },
     "execution_count": 71,
     "metadata": {},
     "output_type": "execute_result"
    }
   ],
   "source": [
    "train_df.head()"
   ]
  },
  {
   "cell_type": "code",
   "execution_count": 72,
   "id": "1c157271",
   "metadata": {},
   "outputs": [],
   "source": [
    "# feature and labels\n",
    "X = np.array(train_df['message'])\n",
    "y = np.array(train_df['sentiment'])"
   ]
  },
  {
   "cell_type": "code",
   "execution_count": 73,
   "id": "c403d431",
   "metadata": {},
   "outputs": [],
   "source": [
    "# split data\n",
    "X_train, X_test, y_train, y_test = train_test_split(X, y, test_size=0.25, random_state=27)"
   ]
  },
  {
   "cell_type": "code",
   "execution_count": 140,
   "metadata": {},
   "outputs": [],
   "source": [
    "# init LogisticRegression model\n",
    "multi = Pipeline([('vect', TfidfVectorizer(stop_words='english')),\n",
    "                ('tfidf', TfidfTransformer()),\n",
    "                ('clf', LogisticRegression())])"
   ]
  },
  {
   "cell_type": "code",
   "execution_count": 141,
   "id": "cb9200fa",
   "metadata": {},
   "outputs": [
    {
     "name": "stderr",
     "output_type": "stream",
     "text": [
      "c:\\Users\\Roger Arendse\\AppData\\Local\\Programs\\Python\\Python310\\lib\\site-packages\\sklearn\\linear_model\\_logistic.py:444: ConvergenceWarning: lbfgs failed to converge (status=1):\n",
      "STOP: TOTAL NO. of ITERATIONS REACHED LIMIT.\n",
      "\n",
      "Increase the number of iterations (max_iter) or scale the data as shown in:\n",
      "    https://scikit-learn.org/stable/modules/preprocessing.html\n",
      "Please also refer to the documentation for alternative solver options:\n",
      "    https://scikit-learn.org/stable/modules/linear_model.html#logistic-regression\n",
      "  n_iter_i = _check_optimize_result(\n"
     ]
    }
   ],
   "source": [
    "# fit model\n",
    "multi.fit(X_train, y_train)\n",
    "y_pred = multi.predict(X_test)"
   ]
  },
  {
   "cell_type": "code",
   "execution_count": 142,
   "id": "166fc167",
   "metadata": {},
   "outputs": [],
   "source": [
    "# create performance variables\n",
    "f1 = f1_score(y_test, y_pred, average='macro')\n",
    "accuracy = accuracy_score(y_test, y_pred)"
   ]
  },
  {
   "cell_type": "code",
   "execution_count": 143,
   "id": "38fec488",
   "metadata": {},
   "outputs": [
    {
     "name": "stdout",
     "output_type": "stream",
     "text": [
      "              precision    recall  f1-score   support\n",
      "\n",
      "          -1       0.83      0.23      0.36       308\n",
      "           0       0.72      0.25      0.37       571\n",
      "           1       0.70      0.94      0.80      2158\n",
      "           2       0.80      0.67      0.73       918\n",
      "\n",
      "    accuracy                           0.72      3955\n",
      "   macro avg       0.76      0.52      0.56      3955\n",
      "weighted avg       0.73      0.72      0.69      3955\n",
      "\n",
      "F1: 0.5642114385738952\n",
      "Accuracy: 0.720353982300885\n"
     ]
    }
   ],
   "source": [
    "# view model performance\n",
    "print(classification_report(y_test, y_pred))\n",
    "print('F1: {}'.format(f1))\n",
    "print('Accuracy: {}'.format(accuracy))"
   ]
  },
  {
   "cell_type": "code",
   "execution_count": 144,
   "id": "2e0cef77",
   "metadata": {},
   "outputs": [],
   "source": [
    "# create dictionary to store parameters and metrics\n",
    "params = { \n",
    "    'test_size': 0.25,\n",
    "    'random_state': 27,\n",
    "    'model_type': 'logreg'\n",
    "}\n",
    "\n",
    "metrics = {\n",
    "    'f1': f1, \n",
    "    'accuracy': accuracy\n",
    "}"
   ]
  },
  {
   "cell_type": "code",
   "execution_count": 145,
   "id": "09461463",
   "metadata": {},
   "outputs": [],
   "source": [
    "# log parameters and results\n",
    "experiment.log_parameters(params)\n",
    "experiment.log_metrics(metrics)"
   ]
  },
  {
   "cell_type": "code",
   "execution_count": 146,
   "id": "1d44e167",
   "metadata": {},
   "outputs": [],
   "source": [
    "# end comet experiment\n",
    "experiment.end()"
   ]
  },
  {
   "cell_type": "markdown",
   "id": "8ace7a98-ede1-41de-aa49-8a764c8e3d1f",
   "metadata": {},
   "source": [
    "<a id=\"nine\"></a>\n",
    "## 6. Kaggle Submission\n",
    "<a class=\"anchor\" id=\"1.1\"></a>\n",
    "<a href=#cont>Back to Table of Contents</a>\n"
   ]
  },
  {
   "cell_type": "code",
   "execution_count": 147,
   "id": "656db675",
   "metadata": {},
   "outputs": [],
   "source": [
    "# vectorize feature for test_df\n",
    "X_multi_test = test_df['message']\n",
    "\n",
    "# prediction \n",
    "pred = multi.predict(X_multi_test)"
   ]
  },
  {
   "cell_type": "code",
   "execution_count": 148,
   "id": "c2db7f46",
   "metadata": {},
   "outputs": [
    {
     "data": {
      "text/html": [
       "<div>\n",
       "<style scoped>\n",
       "    .dataframe tbody tr th:only-of-type {\n",
       "        vertical-align: middle;\n",
       "    }\n",
       "\n",
       "    .dataframe tbody tr th {\n",
       "        vertical-align: top;\n",
       "    }\n",
       "\n",
       "    .dataframe thead th {\n",
       "        text-align: right;\n",
       "    }\n",
       "</style>\n",
       "<table border=\"1\" class=\"dataframe\">\n",
       "  <thead>\n",
       "    <tr style=\"text-align: right;\">\n",
       "      <th></th>\n",
       "      <th>message</th>\n",
       "      <th>tweetid</th>\n",
       "    </tr>\n",
       "  </thead>\n",
       "  <tbody>\n",
       "    <tr>\n",
       "      <th>0</th>\n",
       "      <td>europe will now be looking to china to make su...</td>\n",
       "      <td>169760</td>\n",
       "    </tr>\n",
       "    <tr>\n",
       "      <th>1</th>\n",
       "      <td>combine this with the polling of staffers re c...</td>\n",
       "      <td>35326</td>\n",
       "    </tr>\n",
       "    <tr>\n",
       "      <th>2</th>\n",
       "      <td>the scary unimpeachable evidence that climate ...</td>\n",
       "      <td>224985</td>\n",
       "    </tr>\n",
       "    <tr>\n",
       "      <th>3</th>\n",
       "      <td>karoli morgfair osborneink dailykos   putin go...</td>\n",
       "      <td>476263</td>\n",
       "    </tr>\n",
       "    <tr>\n",
       "      <th>4</th>\n",
       "      <td>rt fakewillmoore female orgasms cause global w...</td>\n",
       "      <td>872928</td>\n",
       "    </tr>\n",
       "  </tbody>\n",
       "</table>\n",
       "</div>"
      ],
      "text/plain": [
       "                                             message  tweetid\n",
       "0  europe will now be looking to china to make su...   169760\n",
       "1  combine this with the polling of staffers re c...    35326\n",
       "2  the scary unimpeachable evidence that climate ...   224985\n",
       "3  karoli morgfair osborneink dailykos   putin go...   476263\n",
       "4  rt fakewillmoore female orgasms cause global w...   872928"
      ]
     },
     "execution_count": 148,
     "metadata": {},
     "output_type": "execute_result"
    }
   ],
   "source": [
    "test_df.head()"
   ]
  },
  {
   "cell_type": "code",
   "execution_count": 149,
   "id": "45a44f6f",
   "metadata": {},
   "outputs": [
    {
     "data": {
      "text/html": [
       "<div>\n",
       "<style scoped>\n",
       "    .dataframe tbody tr th:only-of-type {\n",
       "        vertical-align: middle;\n",
       "    }\n",
       "\n",
       "    .dataframe tbody tr th {\n",
       "        vertical-align: top;\n",
       "    }\n",
       "\n",
       "    .dataframe thead th {\n",
       "        text-align: right;\n",
       "    }\n",
       "</style>\n",
       "<table border=\"1\" class=\"dataframe\">\n",
       "  <thead>\n",
       "    <tr style=\"text-align: right;\">\n",
       "      <th></th>\n",
       "      <th>tweetid</th>\n",
       "      <th>sentiment</th>\n",
       "    </tr>\n",
       "  </thead>\n",
       "  <tbody>\n",
       "    <tr>\n",
       "      <th>0</th>\n",
       "      <td>169760</td>\n",
       "      <td>1</td>\n",
       "    </tr>\n",
       "    <tr>\n",
       "      <th>1</th>\n",
       "      <td>35326</td>\n",
       "      <td>1</td>\n",
       "    </tr>\n",
       "    <tr>\n",
       "      <th>2</th>\n",
       "      <td>224985</td>\n",
       "      <td>1</td>\n",
       "    </tr>\n",
       "    <tr>\n",
       "      <th>3</th>\n",
       "      <td>476263</td>\n",
       "      <td>1</td>\n",
       "    </tr>\n",
       "    <tr>\n",
       "      <th>4</th>\n",
       "      <td>872928</td>\n",
       "      <td>1</td>\n",
       "    </tr>\n",
       "    <tr>\n",
       "      <th>...</th>\n",
       "      <td>...</td>\n",
       "      <td>...</td>\n",
       "    </tr>\n",
       "    <tr>\n",
       "      <th>10541</th>\n",
       "      <td>895714</td>\n",
       "      <td>1</td>\n",
       "    </tr>\n",
       "    <tr>\n",
       "      <th>10542</th>\n",
       "      <td>875167</td>\n",
       "      <td>1</td>\n",
       "    </tr>\n",
       "    <tr>\n",
       "      <th>10543</th>\n",
       "      <td>78329</td>\n",
       "      <td>1</td>\n",
       "    </tr>\n",
       "    <tr>\n",
       "      <th>10544</th>\n",
       "      <td>867455</td>\n",
       "      <td>0</td>\n",
       "    </tr>\n",
       "    <tr>\n",
       "      <th>10545</th>\n",
       "      <td>470892</td>\n",
       "      <td>1</td>\n",
       "    </tr>\n",
       "  </tbody>\n",
       "</table>\n",
       "<p>10546 rows × 2 columns</p>\n",
       "</div>"
      ],
      "text/plain": [
       "       tweetid  sentiment\n",
       "0       169760          1\n",
       "1        35326          1\n",
       "2       224985          1\n",
       "3       476263          1\n",
       "4       872928          1\n",
       "...        ...        ...\n",
       "10541   895714          1\n",
       "10542   875167          1\n",
       "10543    78329          1\n",
       "10544   867455          0\n",
       "10545   470892          1\n",
       "\n",
       "[10546 rows x 2 columns]"
      ]
     },
     "execution_count": 149,
     "metadata": {},
     "output_type": "execute_result"
    }
   ],
   "source": [
    "submission = pd.DataFrame({'tweetid': test_df.tweetid,\n",
    "                       'sentiment': pred})\n",
    "submission.to_csv('Submissions/TeamGm4_Submission_3.csv', index=False)\n",
    "submission\n"
   ]
  }
 ],
 "metadata": {
  "kernelspec": {
   "display_name": "Python 3.10.1 64-bit",
   "language": "python",
   "name": "python3"
  },
  "language_info": {
   "codemirror_mode": {
    "name": "ipython",
    "version": 3
   },
   "file_extension": ".py",
   "mimetype": "text/x-python",
   "name": "python",
   "nbconvert_exporter": "python",
   "pygments_lexer": "ipython3",
   "version": "3.10.1"
  },
  "vscode": {
   "interpreter": {
    "hash": "725abf89c5178708028d2cdee8f8084e55b95a39bb132202c1931af3e7039d25"
   }
  }
 },
 "nbformat": 4,
 "nbformat_minor": 5
}
