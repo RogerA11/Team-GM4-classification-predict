{
 "cells": [
  {
   "cell_type": "markdown",
   "id": "93552bc8-6828-4d86-a9c8-39df1eb78b4e",
   "metadata": {},
   "source": [
    "# EDSA - Climate Change Belief Analysis 2022\n",
    "\n",
    "© Explore Data Science Academy\n",
    "\n",
    "---\n",
    "### Honour Code\n",
    "\n",
    "We as Team *2201FTDS_GM4* consisting of {**Alette Baloyi, Nkoka Khosa, Precious Montsha, Mahlatse Philix Ramabopa, Roger Arendse, and Wezo Ntsokota**}, confirm - by submitting this document - that the solutions in this notebook are a result of our own work and that we abide by the [EDSA honour code](https://drive.google.com/file/d/1QDCjGZJ8-FmJE3bZdIQNwnJyQKPhHZBn/view?usp=sharing).\n",
    "\n",
    "Non-compliance with the honour code constitutes a material breach of contract.\n"
   ]
  },
  {
   "cell_type": "markdown",
   "id": "76287bd9-b95a-4ee1-92b1-5d0ef56a91e2",
   "metadata": {},
   "source": [
    "<a id=\"cont\"></a>\n",
    "\n",
    "## Table of Contents\n",
    "\n",
    "<a href=#one>1. Importing Packages</a>\n",
    "\n",
    "<a href=#two>2. Loading Data</a>\n",
    "\n",
    "<a href=#three>3. Exploratory Data Analysis (EDA)</a>\n",
    "\n",
    "<a href=#five>4. Modeling</a>\n",
    "\n",
    "<a href=#six>5. Model Performance</a>\n",
    "\n",
    "<a href=#nine>6. Kaggle Submission </a>"
   ]
  },
  {
   "cell_type": "markdown",
   "id": "b0c88750-f5f2-42d7-807f-16f6dfacffad",
   "metadata": {},
   "source": [
    "## Data Description\n",
    "\n",
    "The collection of this data was funded by a Canada Foundation for Innovation JELF Grant to Chris Bauch, University of Waterloo. The dataset aggregates tweets pertaining to climate change collected between **Apr 27, 2015 and Feb 21, 2018.** In total, 43943 tweets were collected. Each tweet is labelled as one of the following classes:\n",
    "\n",
    "Class Description\n",
    "* 2 News: the tweet links to factual news about climate change\n",
    "* 1 Pro: the tweet supports the belief of man-made climate change\n",
    "* 0 Neutral: the tweet neither supports nor refutes the belief of man-made climate change\n",
    "* -1 Anti: the tweet does not believe in man-made climate change\n",
    "\n",
    "Variable definitions\n",
    "- sentiment: Sentiment of tweet\n",
    "- message: Tweet body\n",
    "- tweetid: Twitter unique id\n"
   ]
  },
  {
   "cell_type": "markdown",
   "id": "5e697650-1d72-48c4-bd7f-aa457ad33d86",
   "metadata": {},
   "source": [
    " <a id=\"one\"></a>\n",
    "## 1. Importing Packages\n",
    "<a href=#cont>Back to Table of Contents</a>\n",
    "\n"
   ]
  },
  {
   "cell_type": "code",
   "execution_count": 5,
   "id": "73951b10",
   "metadata": {},
   "outputs": [
    {
     "name": "stderr",
     "output_type": "stream",
     "text": [
      "COMET INFO: ---------------------------\n",
      "COMET INFO: Comet.ml Experiment Summary\n",
      "COMET INFO: ---------------------------\n",
      "COMET INFO:   Data:\n",
      "COMET INFO:     display_summary_level : 1\n",
      "COMET INFO:     url                   : https://www.comet.ml/rogera11/climate-change-belief-analysis/7f7595df130c428aa44e6066ad25b8ab\n",
      "COMET INFO:   Uploads:\n",
      "COMET INFO:     environment details : 1\n",
      "COMET INFO:     filename            : 1\n",
      "COMET INFO:     git metadata        : 1\n",
      "COMET INFO:     installed packages  : 1\n",
      "COMET INFO:     notebook            : 1\n",
      "COMET INFO:     source_code         : 1\n",
      "COMET INFO: ---------------------------\n",
      "COMET WARNING: As you are running in a Jupyter environment, you will need to call `experiment.end()` when finished to ensure all metrics and code are logged before exiting.\n",
      "COMET INFO: Experiment is live on comet.ml https://www.comet.ml/rogera11/climate-change-belief-analysis/b6bee83a4e0f45beb02e8c4c7b04b2bb\n",
      "\n"
     ]
    }
   ],
   "source": [
    "# import comet library\n",
    "from comet_ml import Experiment\n",
    "\n",
    "# Create an experiment with your api key\n",
    "experiment = Experiment(\n",
    "    api_key=\"bNwa2OhTiQhx360XIO0hT5BLI\",\n",
    "    project_name=\"climate-change-belief-analysis\",\n",
    "    workspace=\"rogera11\",\n",
    ")"
   ]
  },
  {
   "cell_type": "code",
   "execution_count": 2,
   "id": "0b63439a-aa90-4e0e-aab8-c1ff5a95a88f",
   "metadata": {},
   "outputs": [],
   "source": [
    "\n",
    "# importing basic libraries\n",
    "import numpy as np\n",
    "import pandas as pd\n",
    "import matplotlib.pyplot as plt\n",
    "import seaborn as sns\n",
    "\n",
    "# import nlp libraries\n",
    "import nltk\n",
    "import string\n",
    "import re\n",
    "import spacy \n",
    "\n",
    "# model libraries\n",
    "import sklearn\n",
    "from sklearn.linear_model import LogisticRegression\n",
    "from sklearn.svm import SVC\n",
    "from sklearn.neighbors import KNeighborsClassifier\n",
    "from sklearn.ensemble import RandomForestClassifier\n",
    "from sklearn.ensemble import GradientBoostingClassifier\n",
    "from sklearn.naive_bayes import MultinomialNB\n",
    "from sklearn.pipeline import Pipeline\n",
    "from sklearn.model_selection import train_test_split\n",
    "from sklearn.model_selection import GridSearchCV\n",
    "from sklearn.metrics import classification_report\n",
    "from sklearn.feature_extraction.text import CountVectorizer\n",
    "from sklearn.feature_extraction.text import TfidfVectorizer\n",
    "from sklearn.feature_extraction.text import TfidfTransformer\n",
    "from sklearn import metrics\n",
    "from sklearn.metrics import f1_score\n",
    "from sklearn.metrics import accuracy_score \n",
    "\n",
    "# Set plot style\n",
    "sns.set()\n"
   ]
  },
  {
   "cell_type": "markdown",
   "id": "517b5211-8932-4b1f-8299-5c16a116bd55",
   "metadata": {},
   "source": [
    "<a id=\"two\"></a>\n",
    "## 2. Loading the Data\n",
    "<a class=\"anchor\" id=\"1.1\"></a>\n",
    "<a href=#cont>Back to Table of Contents</a>\n"
   ]
  },
  {
   "cell_type": "code",
   "execution_count": 6,
   "id": "bc4447a6-5fda-446f-8326-91ab1aa54ce8",
   "metadata": {},
   "outputs": [],
   "source": [
    "\n",
    "# define training data\n",
    "train_df = pd.read_csv(\"train.csv\")\n"
   ]
  },
  {
   "cell_type": "code",
   "execution_count": 7,
   "id": "ef70888f-99d5-4a09-b7f0-74e54abaab48",
   "metadata": {},
   "outputs": [],
   "source": [
    "\n",
    "# define testing data \n",
    "test_df = pd.read_csv(\"test.csv\")\n"
   ]
  },
  {
   "cell_type": "markdown",
   "id": "60d9f9c9-a7f8-4ed5-b8ac-3fb53f6bb47e",
   "metadata": {},
   "source": [
    "<a id=\"three\"></a>\n",
    "## 3. Exploratory Data Analysis (EDA)\n",
    "<a class=\"anchor\" id=\"1.1\"></a>\n",
    "<a href=#cont>Back to Table of Contents</a>\n"
   ]
  },
  {
   "cell_type": "code",
   "execution_count": 8,
   "id": "37b5206c-13c0-464b-8a9d-b3119090e8fa",
   "metadata": {},
   "outputs": [
    {
     "data": {
      "text/html": [
       "<div>\n",
       "<style scoped>\n",
       "    .dataframe tbody tr th:only-of-type {\n",
       "        vertical-align: middle;\n",
       "    }\n",
       "\n",
       "    .dataframe tbody tr th {\n",
       "        vertical-align: top;\n",
       "    }\n",
       "\n",
       "    .dataframe thead th {\n",
       "        text-align: right;\n",
       "    }\n",
       "</style>\n",
       "<table border=\"1\" class=\"dataframe\">\n",
       "  <thead>\n",
       "    <tr style=\"text-align: right;\">\n",
       "      <th></th>\n",
       "      <th>sentiment</th>\n",
       "      <th>message</th>\n",
       "      <th>tweetid</th>\n",
       "    </tr>\n",
       "  </thead>\n",
       "  <tbody>\n",
       "    <tr>\n",
       "      <th>0</th>\n",
       "      <td>1</td>\n",
       "      <td>PolySciMajor EPA chief doesn't think carbon di...</td>\n",
       "      <td>625221</td>\n",
       "    </tr>\n",
       "    <tr>\n",
       "      <th>1</th>\n",
       "      <td>1</td>\n",
       "      <td>It's not like we lack evidence of anthropogeni...</td>\n",
       "      <td>126103</td>\n",
       "    </tr>\n",
       "    <tr>\n",
       "      <th>2</th>\n",
       "      <td>2</td>\n",
       "      <td>RT @RawStory: Researchers say we have three ye...</td>\n",
       "      <td>698562</td>\n",
       "    </tr>\n",
       "    <tr>\n",
       "      <th>3</th>\n",
       "      <td>1</td>\n",
       "      <td>#TodayinMaker# WIRED : 2016 was a pivotal year...</td>\n",
       "      <td>573736</td>\n",
       "    </tr>\n",
       "    <tr>\n",
       "      <th>4</th>\n",
       "      <td>1</td>\n",
       "      <td>RT @SoyNovioDeTodas: It's 2016, and a racist, ...</td>\n",
       "      <td>466954</td>\n",
       "    </tr>\n",
       "  </tbody>\n",
       "</table>\n",
       "</div>"
      ],
      "text/plain": [
       "   sentiment                                            message  tweetid\n",
       "0          1  PolySciMajor EPA chief doesn't think carbon di...   625221\n",
       "1          1  It's not like we lack evidence of anthropogeni...   126103\n",
       "2          2  RT @RawStory: Researchers say we have three ye...   698562\n",
       "3          1  #TodayinMaker# WIRED : 2016 was a pivotal year...   573736\n",
       "4          1  RT @SoyNovioDeTodas: It's 2016, and a racist, ...   466954"
      ]
     },
     "execution_count": 8,
     "metadata": {},
     "output_type": "execute_result"
    }
   ],
   "source": [
    "\n",
    "# view training data\n",
    "train_df.head()\n"
   ]
  },
  {
   "cell_type": "code",
   "execution_count": 9,
   "id": "28790b2e-62b4-4154-9965-e1c6fa8e023f",
   "metadata": {},
   "outputs": [
    {
     "data": {
      "text/html": [
       "<div>\n",
       "<style scoped>\n",
       "    .dataframe tbody tr th:only-of-type {\n",
       "        vertical-align: middle;\n",
       "    }\n",
       "\n",
       "    .dataframe tbody tr th {\n",
       "        vertical-align: top;\n",
       "    }\n",
       "\n",
       "    .dataframe thead th {\n",
       "        text-align: right;\n",
       "    }\n",
       "</style>\n",
       "<table border=\"1\" class=\"dataframe\">\n",
       "  <thead>\n",
       "    <tr style=\"text-align: right;\">\n",
       "      <th></th>\n",
       "      <th>message</th>\n",
       "      <th>tweetid</th>\n",
       "    </tr>\n",
       "  </thead>\n",
       "  <tbody>\n",
       "    <tr>\n",
       "      <th>0</th>\n",
       "      <td>Europe will now be looking to China to make su...</td>\n",
       "      <td>169760</td>\n",
       "    </tr>\n",
       "    <tr>\n",
       "      <th>1</th>\n",
       "      <td>Combine this with the polling of staffers re c...</td>\n",
       "      <td>35326</td>\n",
       "    </tr>\n",
       "    <tr>\n",
       "      <th>2</th>\n",
       "      <td>The scary, unimpeachable evidence that climate...</td>\n",
       "      <td>224985</td>\n",
       "    </tr>\n",
       "    <tr>\n",
       "      <th>3</th>\n",
       "      <td>@Karoli @morgfair @OsborneInk @dailykos \\r\\nPu...</td>\n",
       "      <td>476263</td>\n",
       "    </tr>\n",
       "    <tr>\n",
       "      <th>4</th>\n",
       "      <td>RT @FakeWillMoore: 'Female orgasms cause globa...</td>\n",
       "      <td>872928</td>\n",
       "    </tr>\n",
       "  </tbody>\n",
       "</table>\n",
       "</div>"
      ],
      "text/plain": [
       "                                             message  tweetid\n",
       "0  Europe will now be looking to China to make su...   169760\n",
       "1  Combine this with the polling of staffers re c...    35326\n",
       "2  The scary, unimpeachable evidence that climate...   224985\n",
       "3  @Karoli @morgfair @OsborneInk @dailykos \\r\\nPu...   476263\n",
       "4  RT @FakeWillMoore: 'Female orgasms cause globa...   872928"
      ]
     },
     "execution_count": 9,
     "metadata": {},
     "output_type": "execute_result"
    }
   ],
   "source": [
    "# view testing data\n",
    "test_df.head()"
   ]
  },
  {
   "cell_type": "code",
   "execution_count": 10,
   "id": "fcca2660-3ec4-4e2c-91b7-9eaf2eb83b2d",
   "metadata": {},
   "outputs": [
    {
     "name": "stdout",
     "output_type": "stream",
     "text": [
      "Train shape: (15819, 3)\n",
      "Test shape: (10546, 2)\n"
     ]
    }
   ],
   "source": [
    "\n",
    "# view train and test datasets shape\n",
    "print('Train shape: {}'.format(train_df.shape))\n",
    "print('Test shape: {}'.format(test_df.shape))\n"
   ]
  },
  {
   "cell_type": "code",
   "execution_count": 11,
   "id": "d52bac45-440e-442e-bbe7-93c7dee0605d",
   "metadata": {},
   "outputs": [
    {
     "name": "stdout",
     "output_type": "stream",
     "text": [
      "<class 'pandas.core.frame.DataFrame'>\n",
      "RangeIndex: 15819 entries, 0 to 15818\n",
      "Data columns (total 3 columns):\n",
      " #   Column     Non-Null Count  Dtype \n",
      "---  ------     --------------  ----- \n",
      " 0   sentiment  15819 non-null  int64 \n",
      " 1   message    15819 non-null  object\n",
      " 2   tweetid    15819 non-null  int64 \n",
      "dtypes: int64(2), object(1)\n",
      "memory usage: 370.9+ KB\n"
     ]
    }
   ],
   "source": [
    "\n",
    "# view training info\n",
    "train_df.info()\n"
   ]
  },
  {
   "cell_type": "code",
   "execution_count": 12,
   "id": "bdf6f57e-2e90-4b32-a6e3-a3a0d8eebfc4",
   "metadata": {},
   "outputs": [
    {
     "name": "stdout",
     "output_type": "stream",
     "text": [
      "<class 'pandas.core.frame.DataFrame'>\n",
      "RangeIndex: 10546 entries, 0 to 10545\n",
      "Data columns (total 2 columns):\n",
      " #   Column   Non-Null Count  Dtype \n",
      "---  ------   --------------  ----- \n",
      " 0   message  10546 non-null  object\n",
      " 1   tweetid  10546 non-null  int64 \n",
      "dtypes: int64(1), object(1)\n",
      "memory usage: 164.9+ KB\n"
     ]
    }
   ],
   "source": [
    "\n",
    "# view test info\n",
    "test_df.info()\n"
   ]
  },
  {
   "cell_type": "markdown",
   "id": "18d45932-61c9-480f-83df-78ca98613354",
   "metadata": {},
   "source": [
    "### 3.1 Explore Data Summary"
   ]
  },
  {
   "cell_type": "code",
   "execution_count": 13,
   "id": "6378239c-a716-4b2a-8848-2dd102ff099b",
   "metadata": {},
   "outputs": [
    {
     "data": {
      "text/plain": [
       "sentiment    0\n",
       "message      0\n",
       "tweetid      0\n",
       "dtype: int64"
      ]
     },
     "execution_count": 13,
     "metadata": {},
     "output_type": "execute_result"
    }
   ],
   "source": [
    "\n",
    "# view missing values in train_df\n",
    "train_df.isnull().sum()\n"
   ]
  },
  {
   "cell_type": "code",
   "execution_count": 14,
   "id": "6378239c-a716-4b2a-8848-2dd102ff099b",
   "metadata": {},
   "outputs": [
    {
     "data": {
      "text/plain": [
       "message    0\n",
       "tweetid    0\n",
       "dtype: int64"
      ]
     },
     "execution_count": 14,
     "metadata": {},
     "output_type": "execute_result"
    }
   ],
   "source": [
    "\n",
    "# view missing values in test_df\n",
    "test_df.isnull().sum()\n"
   ]
  },
  {
   "cell_type": "code",
   "execution_count": 15,
   "id": "8e8565a3-5473-4545-967c-31a4d251812d",
   "metadata": {},
   "outputs": [
    {
     "name": "stdout",
     "output_type": "stream",
     "text": [
      "[1, 2, 0, -1]\n"
     ]
    }
   ],
   "source": [
    "\n",
    "# Print off a list of all sentiment classes present in this dataset.\n",
    "class_labels = list(train_df.sentiment.unique())\n",
    "print(class_labels)\n"
   ]
  },
  {
   "cell_type": "code",
   "execution_count": 16,
   "id": "c2d756a5-f47e-46f3-8469-351b75eae6ff",
   "metadata": {},
   "outputs": [
    {
     "data": {
      "image/png": "[encoded data removed]",
      "text/plain": [
       "<Figure size 432x288 with 1 Axes>"
      ]
     },
     "metadata": {
      "needs_background": "light"
     },
     "output_type": "display_data"
    }
   ],
   "source": [
    "\n",
    "# plot the bar graph to see the distribution of our 'df_train' sentiment.\n",
    "sns.set(rc = {'figure.figsize':(8,8)})\n",
    "labels = ['1', '2','0','-1']\n",
    "bargraph = train_df[\"sentiment\"].value_counts()\n",
    "bargraph.plot(kind = \"bar\", title = \"Number of Tweets v/s Sentiments\", xlabel = \"Sentiments\", ylabel = \"Count\")\n",
    "plt.show()\n"
   ]
  },
  {
   "cell_type": "code",
   "execution_count": 17,
   "id": "4eb3ef1b",
   "metadata": {},
   "outputs": [
    {
     "data": {
      "text/plain": [
       "[53.9, 23.0, 14.9, 8.2]"
      ]
     },
     "execution_count": 17,
     "metadata": {},
     "output_type": "execute_result"
    }
   ],
   "source": [
    "# create percentage list\n",
    "percentage = []\n",
    "for i in bargraph:\n",
    "    percent = (round((i/sum(bargraph))*100, 1))\n",
    "    percentage.append(percent)\n",
    "\n",
    "# view percentage\n",
    "percentage\n",
    "    "
   ]
  },
  {
   "cell_type": "code",
   "execution_count": 18,
   "id": "e85394c2-db82-4efa-8740-66c349dc177c",
   "metadata": {},
   "outputs": [
    {
     "data": {
      "image/png": "[encoded data removed]",
      "text/plain": [
       "<Figure size 432x288 with 1 Axes>"
      ]
     },
     "metadata": {
      "needs_background": "light"
     },
     "output_type": "display_data"
    }
   ],
   "source": [
    "\n",
    "# Plotting the bar graph to see the distrinution of our 'train_df' sentiment with our classses arragend.\n",
    "sns.barplot(x=bargraph, y=labels, data=train_df).set_title(\"Tweets v/s Sentiments\")\n",
    "plt.ylabel(\"Count\")\n",
    "plt.xlabel(\"Sentiments\")\n",
    "#plt.bar_label(percentage)\n",
    "plt.show()\n"
   ]
  },
  {
   "cell_type": "markdown",
   "id": "fefaa3a5",
   "metadata": {},
   "source": [
    "### 3.2 Resampling Data"
   ]
  },
  {
   "cell_type": "code",
   "execution_count": 19,
   "id": "0574bc66",
   "metadata": {},
   "outputs": [],
   "source": [
    "# create variables\n",
    "news = train_df[train_df['sentiment'] == 2]\n",
    "pro = train_df[train_df['sentiment'] == 1]\n",
    "neutral = train_df[train_df['sentiment'] == 0]\n",
    "anti = train_df[train_df['sentiment'] == -1]"
   ]
  },
  {
   "cell_type": "code",
   "execution_count": 20,
   "id": "137f2903",
   "metadata": {},
   "outputs": [
    {
     "data": {
      "image/png": "[encoded data removed]",
      "text/plain": [
       "<Figure size 432x288 with 1 Axes>"
      ]
     },
     "metadata": {
      "needs_background": "light"
     },
     "output_type": "display_data"
    }
   ],
   "source": [
    "# view distribution\n",
    "labels = train_df['sentiment'].unique()\n",
    "heights = [len(news), len(pro), len(neutral), len(anti)]\n",
    "plt.bar(labels,heights,color='grey')\n",
    "plt.xticks(labels,['news', 'pro', 'neutral', 'anti'])\n",
    "plt.ylabel(\"# of observations\")\n",
    "plt.show()"
   ]
  },
  {
   "cell_type": "code",
   "execution_count": 21,
   "id": "f901beca",
   "metadata": {},
   "outputs": [],
   "source": [
    "# import sampling library\n",
    "from sklearn.utils import resample"
   ]
  },
  {
   "cell_type": "code",
   "execution_count": 22,
   "id": "52fac641",
   "metadata": {},
   "outputs": [],
   "source": [
    "# # downsample pro to news length\n",
    "pro_downsample = resample(pro,\n",
    "                           replace=False, # sample without replacement (no need to duplicate observations)\n",
    "                           n_samples=len(news), # match number in minority class\n",
    "                           random_state=27) # reproducible results\n",
    "\n",
    "# upsample anti and neutral\n",
    "anti_upsample = resample(anti,\n",
    "                           replace=True, # sample with replacement (we need to duplicate observations)\n",
    "                           n_samples=len(news), # match number in minority class\n",
    "                           random_state=27) # reproducible results\n",
    "\n",
    "neutral_upsample = resample(neutral,\n",
    "                           replace=True, # sample with replacement (we need to duplicate observations)\n",
    "                           n_samples=len(news), # match number in minority class\n",
    "                           random_state=27) # reproducible results"
   ]
  },
  {
   "cell_type": "code",
   "execution_count": 23,
   "id": "8635c33d",
   "metadata": {},
   "outputs": [
    {
     "data": {
      "text/plain": [
       " 2    3640\n",
       " 1    3640\n",
       "-1    3640\n",
       " 0    3640\n",
       "Name: sentiment, dtype: int64"
      ]
     },
     "execution_count": 23,
     "metadata": {},
     "output_type": "execute_result"
    }
   ],
   "source": [
    "# combine sampled\n",
    "sampled_df = pd.concat([news, pro_downsample, anti_upsample, neutral_upsample])\n",
    "\n",
    "# Check new class counts\n",
    "sampled_df['sentiment'].value_counts()"
   ]
  },
  {
   "cell_type": "markdown",
   "id": "f5064ba5-044c-44ec-bd57-3b91af3b6400",
   "metadata": {},
   "source": [
    "### 3.3 Data Cleaning\n",
    "#### 3.3.1 Removing Noise \n",
    "\n",
    "- Removing website links"
   ]
  },
  {
   "cell_type": "code",
   "execution_count": 24,
   "id": "86c66b66-33af-4d99-8cc6-494165d72344",
   "metadata": {},
   "outputs": [
    {
     "data": {
      "text/html": [
       "<div>\n",
       "<style scoped>\n",
       "    .dataframe tbody tr th:only-of-type {\n",
       "        vertical-align: middle;\n",
       "    }\n",
       "\n",
       "    .dataframe tbody tr th {\n",
       "        vertical-align: top;\n",
       "    }\n",
       "\n",
       "    .dataframe thead th {\n",
       "        text-align: right;\n",
       "    }\n",
       "</style>\n",
       "<table border=\"1\" class=\"dataframe\">\n",
       "  <thead>\n",
       "    <tr style=\"text-align: right;\">\n",
       "      <th></th>\n",
       "      <th>sentiment</th>\n",
       "      <th>message</th>\n",
       "      <th>tweetid</th>\n",
       "    </tr>\n",
       "  </thead>\n",
       "  <tbody>\n",
       "    <tr>\n",
       "      <th>2</th>\n",
       "      <td>2</td>\n",
       "      <td>RT @RawStory: Researchers say we have three ye...</td>\n",
       "      <td>698562</td>\n",
       "    </tr>\n",
       "    <tr>\n",
       "      <th>12</th>\n",
       "      <td>2</td>\n",
       "      <td>RT @tveitdal: We only have a 5 percent chance ...</td>\n",
       "      <td>454673</td>\n",
       "    </tr>\n",
       "  </tbody>\n",
       "</table>\n",
       "</div>"
      ],
      "text/plain": [
       "    sentiment                                            message  tweetid\n",
       "2           2  RT @RawStory: Researchers say we have three ye...   698562\n",
       "12          2  RT @tveitdal: We only have a 5 percent chance ...   454673"
      ]
     },
     "execution_count": 24,
     "metadata": {},
     "output_type": "execute_result"
    }
   ],
   "source": [
    "\n",
    "# Removing the website link using 'regex' and replace it with \"url-web\"\n",
    "pattern_url = r\"http[s]?://(?:[A-Za-z]|[0-9]|[$-_@.&+]|[!*\\(\\),]|(?:%[0-9A-Fa-f][0-9A-Fa-f]))+\"\n",
    "subs_url = r\"url-web\"\n",
    "sampled_df[\"message\"] = sampled_df[\"message\"].replace(to_replace=pattern_url, value=subs_url, regex=True)\n",
    "\n",
    "sampled_df.head(2)\n"
   ]
  },
  {
   "cell_type": "code",
   "execution_count": 25,
   "id": "86c66b66-33af-4d99-8cc6-494165d72344",
   "metadata": {},
   "outputs": [
    {
     "data": {
      "text/html": [
       "<div>\n",
       "<style scoped>\n",
       "    .dataframe tbody tr th:only-of-type {\n",
       "        vertical-align: middle;\n",
       "    }\n",
       "\n",
       "    .dataframe tbody tr th {\n",
       "        vertical-align: top;\n",
       "    }\n",
       "\n",
       "    .dataframe thead th {\n",
       "        text-align: right;\n",
       "    }\n",
       "</style>\n",
       "<table border=\"1\" class=\"dataframe\">\n",
       "  <thead>\n",
       "    <tr style=\"text-align: right;\">\n",
       "      <th></th>\n",
       "      <th>message</th>\n",
       "      <th>tweetid</th>\n",
       "    </tr>\n",
       "  </thead>\n",
       "  <tbody>\n",
       "    <tr>\n",
       "      <th>0</th>\n",
       "      <td>Europe will now be looking to China to make su...</td>\n",
       "      <td>169760</td>\n",
       "    </tr>\n",
       "    <tr>\n",
       "      <th>1</th>\n",
       "      <td>Combine this with the polling of staffers re c...</td>\n",
       "      <td>35326</td>\n",
       "    </tr>\n",
       "  </tbody>\n",
       "</table>\n",
       "</div>"
      ],
      "text/plain": [
       "                                             message  tweetid\n",
       "0  Europe will now be looking to China to make su...   169760\n",
       "1  Combine this with the polling of staffers re c...    35326"
      ]
     },
     "execution_count": 25,
     "metadata": {},
     "output_type": "execute_result"
    }
   ],
   "source": [
    "\n",
    "# Removing the website link using 'regex' and replace it with \"url-web\" in test_df\n",
    "pattern_url = r\"http[s]?://(?:[A-Za-z]|[0-9]|[$-_@.&+]|[!*\\(\\),]|(?:%[0-9A-Fa-f][0-9A-Fa-f]))+\"\n",
    "subs_url = r\"url-web\"\n",
    "test_df[\"message\"] = test_df[\"message\"].replace(to_replace=pattern_url, value=subs_url, regex=True)\n",
    "\n",
    "test_df.head(2)\n"
   ]
  },
  {
   "cell_type": "code",
   "execution_count": 26,
   "id": "dfe0f210",
   "metadata": {},
   "outputs": [
    {
     "name": "stdout",
     "output_type": "stream",
     "text": [
      "Train url count: 8737\n",
      "Test url count: 6614\n"
     ]
    }
   ],
   "source": [
    "# for both sampled_df and test_df\n",
    "# count number of times url appears in message\n",
    "train = sampled_df.message.str.count('url').sum()\n",
    "test = test_df.message.str.count('url').sum()\n",
    "\n",
    "# view count\n",
    "print('Train ''url'' count: {}'.format(train))\n",
    "print('Test ''url'' count: {}'.format(test))"
   ]
  },
  {
   "cell_type": "code",
   "execution_count": 27,
   "id": "28222736",
   "metadata": {},
   "outputs": [],
   "source": [
    "# remove url in both sampled_df and test_df\n",
    "sampled_df[\"message\"] = sampled_df[\"message\"].str.replace('url', '')\n",
    "test_df[\"message\"] = test_df[\"message\"].str.replace('url', '')"
   ]
  },
  {
   "cell_type": "code",
   "execution_count": 28,
   "id": "b7228637",
   "metadata": {},
   "outputs": [
    {
     "name": "stdout",
     "output_type": "stream",
     "text": [
      "Train url count: 0\n",
      "Test url count: 0\n"
     ]
    }
   ],
   "source": [
    "# for both sampled_df and test_df\n",
    "# count number of times url appears in message\n",
    "train = sampled_df.message.str.count('url').sum()\n",
    "test = test_df.message.str.count('url').sum()\n",
    "\n",
    "# view count\n",
    "print('Train ''url'' count: {}'.format(train))\n",
    "print('Test ''url'' count: {}'.format(test))"
   ]
  },
  {
   "cell_type": "markdown",
   "id": "d840fcc9-05d4-42f7-b17c-611efab971bc",
   "metadata": {},
   "source": [
    "- Convert text to lowercase"
   ]
  },
  {
   "cell_type": "code",
   "execution_count": 29,
   "id": "04e322ba-6dae-4275-a88c-1d3f2169b7d3",
   "metadata": {},
   "outputs": [
    {
     "data": {
      "text/html": [
       "<div>\n",
       "<style scoped>\n",
       "    .dataframe tbody tr th:only-of-type {\n",
       "        vertical-align: middle;\n",
       "    }\n",
       "\n",
       "    .dataframe tbody tr th {\n",
       "        vertical-align: top;\n",
       "    }\n",
       "\n",
       "    .dataframe thead th {\n",
       "        text-align: right;\n",
       "    }\n",
       "</style>\n",
       "<table border=\"1\" class=\"dataframe\">\n",
       "  <thead>\n",
       "    <tr style=\"text-align: right;\">\n",
       "      <th></th>\n",
       "      <th>sentiment</th>\n",
       "      <th>message</th>\n",
       "      <th>tweetid</th>\n",
       "    </tr>\n",
       "  </thead>\n",
       "  <tbody>\n",
       "    <tr>\n",
       "      <th>2</th>\n",
       "      <td>2</td>\n",
       "      <td>rt @rawstory: researchers say we have three ye...</td>\n",
       "      <td>698562</td>\n",
       "    </tr>\n",
       "    <tr>\n",
       "      <th>12</th>\n",
       "      <td>2</td>\n",
       "      <td>rt @tveitdal: we only have a 5 percent chance ...</td>\n",
       "      <td>454673</td>\n",
       "    </tr>\n",
       "    <tr>\n",
       "      <th>14</th>\n",
       "      <td>2</td>\n",
       "      <td>fossil fuel giant exxonmobil ‘misled’ the publ...</td>\n",
       "      <td>658092</td>\n",
       "    </tr>\n",
       "  </tbody>\n",
       "</table>\n",
       "</div>"
      ],
      "text/plain": [
       "    sentiment                                            message  tweetid\n",
       "2           2  rt @rawstory: researchers say we have three ye...   698562\n",
       "12          2  rt @tveitdal: we only have a 5 percent chance ...   454673\n",
       "14          2  fossil fuel giant exxonmobil ‘misled’ the publ...   658092"
      ]
     },
     "execution_count": 29,
     "metadata": {},
     "output_type": "execute_result"
    }
   ],
   "source": [
    "\n",
    "# lowercase all characters in sampled_df\n",
    "sampled_df[\"message\"] = sampled_df[\"message\"].str.lower()\n",
    "sampled_df.head(3)\n"
   ]
  },
  {
   "cell_type": "code",
   "execution_count": 30,
   "id": "04e322ba-6dae-4275-a88c-1d3f2169b7d3",
   "metadata": {},
   "outputs": [
    {
     "data": {
      "text/html": [
       "<div>\n",
       "<style scoped>\n",
       "    .dataframe tbody tr th:only-of-type {\n",
       "        vertical-align: middle;\n",
       "    }\n",
       "\n",
       "    .dataframe tbody tr th {\n",
       "        vertical-align: top;\n",
       "    }\n",
       "\n",
       "    .dataframe thead th {\n",
       "        text-align: right;\n",
       "    }\n",
       "</style>\n",
       "<table border=\"1\" class=\"dataframe\">\n",
       "  <thead>\n",
       "    <tr style=\"text-align: right;\">\n",
       "      <th></th>\n",
       "      <th>message</th>\n",
       "      <th>tweetid</th>\n",
       "    </tr>\n",
       "  </thead>\n",
       "  <tbody>\n",
       "    <tr>\n",
       "      <th>0</th>\n",
       "      <td>europe will now be looking to china to make su...</td>\n",
       "      <td>169760</td>\n",
       "    </tr>\n",
       "    <tr>\n",
       "      <th>1</th>\n",
       "      <td>combine this with the polling of staffers re c...</td>\n",
       "      <td>35326</td>\n",
       "    </tr>\n",
       "    <tr>\n",
       "      <th>2</th>\n",
       "      <td>the scary, unimpeachable evidence that climate...</td>\n",
       "      <td>224985</td>\n",
       "    </tr>\n",
       "  </tbody>\n",
       "</table>\n",
       "</div>"
      ],
      "text/plain": [
       "                                             message  tweetid\n",
       "0  europe will now be looking to china to make su...   169760\n",
       "1  combine this with the polling of staffers re c...    35326\n",
       "2  the scary, unimpeachable evidence that climate...   224985"
      ]
     },
     "execution_count": 30,
     "metadata": {},
     "output_type": "execute_result"
    }
   ],
   "source": [
    "\n",
    "# lowercase all characters in test_df\n",
    "test_df[\"message\"] = test_df[\"message\"].str.lower()\n",
    "test_df.head(3)\n"
   ]
  },
  {
   "cell_type": "markdown",
   "id": "d1b17881-c096-41a1-a29e-65bcd71a43c8",
   "metadata": {},
   "source": [
    "- Removing punctuation"
   ]
  },
  {
   "cell_type": "code",
   "execution_count": 31,
   "id": "c3bbfefa-fd52-429e-8b72-9d88f17803bb",
   "metadata": {},
   "outputs": [],
   "source": [
    "\n",
    "# init punctuation in string library\n",
    "my_punct = string.punctuation\n",
    "\n",
    "# create function to remove puntuation\n",
    "def remove_punctuation(message):\n",
    "    return ''.join([l for l in message if l not in my_punct])\n"
   ]
  },
  {
   "cell_type": "code",
   "execution_count": 32,
   "id": "afbf69b3",
   "metadata": {},
   "outputs": [
    {
     "data": {
      "text/html": [
       "<div>\n",
       "<style scoped>\n",
       "    .dataframe tbody tr th:only-of-type {\n",
       "        vertical-align: middle;\n",
       "    }\n",
       "\n",
       "    .dataframe tbody tr th {\n",
       "        vertical-align: top;\n",
       "    }\n",
       "\n",
       "    .dataframe thead th {\n",
       "        text-align: right;\n",
       "    }\n",
       "</style>\n",
       "<table border=\"1\" class=\"dataframe\">\n",
       "  <thead>\n",
       "    <tr style=\"text-align: right;\">\n",
       "      <th></th>\n",
       "      <th>sentiment</th>\n",
       "      <th>message</th>\n",
       "      <th>tweetid</th>\n",
       "    </tr>\n",
       "  </thead>\n",
       "  <tbody>\n",
       "    <tr>\n",
       "      <th>2</th>\n",
       "      <td>2</td>\n",
       "      <td>rt rawstory researchers say we have three year...</td>\n",
       "      <td>698562</td>\n",
       "    </tr>\n",
       "    <tr>\n",
       "      <th>12</th>\n",
       "      <td>2</td>\n",
       "      <td>rt tveitdal we only have a 5 percent chance of...</td>\n",
       "      <td>454673</td>\n",
       "    </tr>\n",
       "    <tr>\n",
       "      <th>14</th>\n",
       "      <td>2</td>\n",
       "      <td>fossil fuel giant exxonmobil ‘misled’ the publ...</td>\n",
       "      <td>658092</td>\n",
       "    </tr>\n",
       "    <tr>\n",
       "      <th>26</th>\n",
       "      <td>2</td>\n",
       "      <td>bangladesh confronting climate change head on ...</td>\n",
       "      <td>365291</td>\n",
       "    </tr>\n",
       "  </tbody>\n",
       "</table>\n",
       "</div>"
      ],
      "text/plain": [
       "    sentiment                                            message  tweetid\n",
       "2           2  rt rawstory researchers say we have three year...   698562\n",
       "12          2  rt tveitdal we only have a 5 percent chance of...   454673\n",
       "14          2  fossil fuel giant exxonmobil ‘misled’ the publ...   658092\n",
       "26          2  bangladesh confronting climate change head on ...   365291"
      ]
     },
     "execution_count": 32,
     "metadata": {},
     "output_type": "execute_result"
    }
   ],
   "source": [
    "# remove punctuation in sampled_df\n",
    "sampled_df[\"message\"] = sampled_df[\"message\"].apply(remove_punctuation)\n",
    "sampled_df.head(4)"
   ]
  },
  {
   "cell_type": "code",
   "execution_count": 33,
   "id": "c3bbfefa-fd52-429e-8b72-9d88f17803bb",
   "metadata": {},
   "outputs": [
    {
     "data": {
      "text/html": [
       "<div>\n",
       "<style scoped>\n",
       "    .dataframe tbody tr th:only-of-type {\n",
       "        vertical-align: middle;\n",
       "    }\n",
       "\n",
       "    .dataframe tbody tr th {\n",
       "        vertical-align: top;\n",
       "    }\n",
       "\n",
       "    .dataframe thead th {\n",
       "        text-align: right;\n",
       "    }\n",
       "</style>\n",
       "<table border=\"1\" class=\"dataframe\">\n",
       "  <thead>\n",
       "    <tr style=\"text-align: right;\">\n",
       "      <th></th>\n",
       "      <th>message</th>\n",
       "      <th>tweetid</th>\n",
       "    </tr>\n",
       "  </thead>\n",
       "  <tbody>\n",
       "    <tr>\n",
       "      <th>0</th>\n",
       "      <td>europe will now be looking to china to make su...</td>\n",
       "      <td>169760</td>\n",
       "    </tr>\n",
       "    <tr>\n",
       "      <th>1</th>\n",
       "      <td>combine this with the polling of staffers re c...</td>\n",
       "      <td>35326</td>\n",
       "    </tr>\n",
       "    <tr>\n",
       "      <th>2</th>\n",
       "      <td>the scary unimpeachable evidence that climate ...</td>\n",
       "      <td>224985</td>\n",
       "    </tr>\n",
       "    <tr>\n",
       "      <th>3</th>\n",
       "      <td>karoli morgfair osborneink dailykos \\r\\nputin ...</td>\n",
       "      <td>476263</td>\n",
       "    </tr>\n",
       "  </tbody>\n",
       "</table>\n",
       "</div>"
      ],
      "text/plain": [
       "                                             message  tweetid\n",
       "0  europe will now be looking to china to make su...   169760\n",
       "1  combine this with the polling of staffers re c...    35326\n",
       "2  the scary unimpeachable evidence that climate ...   224985\n",
       "3  karoli morgfair osborneink dailykos \\r\\nputin ...   476263"
      ]
     },
     "execution_count": 33,
     "metadata": {},
     "output_type": "execute_result"
    }
   ],
   "source": [
    "# remove punctuation in test_df \n",
    "test_df[\"message\"] = test_df[\"message\"].apply(remove_punctuation)\n",
    "test_df.head(4)"
   ]
  },
  {
   "cell_type": "markdown",
   "id": "39353211",
   "metadata": {},
   "source": [
    "- Remove \\r\\n characters from string"
   ]
  },
  {
   "cell_type": "code",
   "execution_count": 34,
   "id": "01330c26",
   "metadata": {},
   "outputs": [
    {
     "name": "stdout",
     "output_type": "stream",
     "text": [
      "Train count: 20542\n",
      "Test count: 17318\n"
     ]
    }
   ],
   "source": [
    "# view occurance of \\r\\n in both sampled_df and test_df\n",
    "train = sampled_df.message.str.count(r'[^ \\w\\.]').sum()\n",
    "test = test_df.message.str.count(r'[^ \\w\\.]').sum()\n",
    "\n",
    "# view count\n",
    "print('Train count: {}'.format(train))\n",
    "print('Test count: {}'.format(test))"
   ]
  },
  {
   "cell_type": "code",
   "execution_count": 35,
   "id": "7614e224",
   "metadata": {},
   "outputs": [],
   "source": [
    "# remove \\r\\n characters in sampled_df\n",
    "pattern = r'[^ \\w\\.]'\n",
    "sampled_df[\"message\"] = sampled_df[\"message\"].replace(to_replace=pattern, value=' ', regex=True)"
   ]
  },
  {
   "cell_type": "code",
   "execution_count": 36,
   "id": "7614e224",
   "metadata": {},
   "outputs": [],
   "source": [
    "# remove \\r\\n characters in test_df\n",
    "pattern = r'[^ \\w\\.]'\n",
    "test_df[\"message\"] = test_df[\"message\"].replace(to_replace=pattern, value=' ', regex=True)"
   ]
  },
  {
   "cell_type": "code",
   "execution_count": 37,
   "id": "3bc0a809",
   "metadata": {},
   "outputs": [
    {
     "name": "stdout",
     "output_type": "stream",
     "text": [
      "Train count: 0\n",
      "Test count: 0\n"
     ]
    }
   ],
   "source": [
    "# view occurance of \\r\\n in both sampled_df and test_df again\n",
    "train = sampled_df.message.str.count(r'[^ \\w\\.]').sum()\n",
    "test = test_df.message.str.count(r'[^ \\w\\.]').sum()\n",
    "\n",
    "# view count\n",
    "print('Train count: {}'.format(train))\n",
    "print('Test count: {}'.format(test))"
   ]
  },
  {
   "cell_type": "markdown",
   "id": "780e2a1f",
   "metadata": {},
   "source": [
    "It worked!"
   ]
  },
  {
   "cell_type": "markdown",
   "id": "9d36fe78",
   "metadata": {},
   "source": [
    "- Remove all non-digit types"
   ]
  },
  {
   "cell_type": "code",
   "execution_count": 38,
   "id": "b13b6bca",
   "metadata": {},
   "outputs": [
    {
     "name": "stdout",
     "output_type": "stream",
     "text": [
      "Train count: 7363\n",
      "Test count: 7175\n"
     ]
    }
   ],
   "source": [
    "# view occurance of non letter types in both sampled_df and test_df\n",
    "train = sampled_df.message.str.count(r'[^a-zA-Z0-9 ]').sum()\n",
    "test = test_df.message.str.count(r'[^a-zA-Z0-9 ]').sum()\n",
    "\n",
    "# view count\n",
    "print('Train count: {}'.format(train))\n",
    "print('Test count: {}'.format(test))"
   ]
  },
  {
   "cell_type": "code",
   "execution_count": 39,
   "id": "720d5ed7",
   "metadata": {},
   "outputs": [],
   "source": [
    "# remove non-digit type characters from sampled_df\n",
    "pattern = r'[^a-zA-Z0-9 ]'\n",
    "sampled_df[\"message\"] = sampled_df[\"message\"].replace(to_replace=pattern, value='', regex=True)\n"
   ]
  },
  {
   "cell_type": "code",
   "execution_count": 40,
   "id": "15a8f0d2",
   "metadata": {},
   "outputs": [],
   "source": [
    "# remove non-digit types from test_df\n",
    "pattern = r'[^a-zA-Z0-9 ]'\n",
    "test_df[\"message\"] = test_df[\"message\"].replace(to_replace=pattern, value='', regex=True)"
   ]
  },
  {
   "cell_type": "code",
   "execution_count": 41,
   "id": "995b0f64",
   "metadata": {},
   "outputs": [
    {
     "name": "stdout",
     "output_type": "stream",
     "text": [
      "Train count: 0\n",
      "Test count: 0\n"
     ]
    }
   ],
   "source": [
    "# to see if it worked view occurance of non letter types in both sampled_df and test_df\n",
    "train = sampled_df.message.str.count(r'[^a-zA-Z0-9 ]').sum()\n",
    "test = test_df.message.str.count(r'[^a-zA-Z0-9 ]').sum()\n",
    "\n",
    "# view count\n",
    "print('Train count: {}'.format(train))\n",
    "print('Test count: {}'.format(test))"
   ]
  },
  {
   "cell_type": "markdown",
   "id": "f4986954",
   "metadata": {},
   "source": [
    "- Remove all numbers "
   ]
  },
  {
   "cell_type": "code",
   "execution_count": 42,
   "id": "3bf07fb1",
   "metadata": {},
   "outputs": [],
   "source": [
    "# remove all numbers from train_df\n",
    "pattern = r'[0-9\\n]'\n",
    "train_df[\"message\"] = train_df[\"message\"].replace(to_replace=pattern, value='', regex=True)"
   ]
  },
  {
   "cell_type": "code",
   "execution_count": 43,
   "id": "3bf07fb1",
   "metadata": {},
   "outputs": [],
   "source": [
    "# remove all numbers from test_df\n",
    "pattern = r'[0-9\\n]'\n",
    "test_df[\"message\"] = test_df[\"message\"].replace(to_replace=pattern, value='', regex=True)"
   ]
  },
  {
   "cell_type": "code",
   "execution_count": 44,
   "id": "3c0c54fa",
   "metadata": {},
   "outputs": [
    {
     "data": {
      "text/html": [
       "<div>\n",
       "<style scoped>\n",
       "    .dataframe tbody tr th:only-of-type {\n",
       "        vertical-align: middle;\n",
       "    }\n",
       "\n",
       "    .dataframe tbody tr th {\n",
       "        vertical-align: top;\n",
       "    }\n",
       "\n",
       "    .dataframe thead th {\n",
       "        text-align: right;\n",
       "    }\n",
       "</style>\n",
       "<table border=\"1\" class=\"dataframe\">\n",
       "  <thead>\n",
       "    <tr style=\"text-align: right;\">\n",
       "      <th></th>\n",
       "      <th>sentiment</th>\n",
       "      <th>message</th>\n",
       "      <th>tweetid</th>\n",
       "    </tr>\n",
       "  </thead>\n",
       "  <tbody>\n",
       "    <tr>\n",
       "      <th>2</th>\n",
       "      <td>2</td>\n",
       "      <td>rt rawstory researchers say we have three year...</td>\n",
       "      <td>698562</td>\n",
       "    </tr>\n",
       "    <tr>\n",
       "      <th>12</th>\n",
       "      <td>2</td>\n",
       "      <td>rt tveitdal we only have a 5 percent chance of...</td>\n",
       "      <td>454673</td>\n",
       "    </tr>\n",
       "    <tr>\n",
       "      <th>14</th>\n",
       "      <td>2</td>\n",
       "      <td>fossil fuel giant exxonmobil  misled  the publ...</td>\n",
       "      <td>658092</td>\n",
       "    </tr>\n",
       "    <tr>\n",
       "      <th>26</th>\n",
       "      <td>2</td>\n",
       "      <td>bangladesh confronting climate change head on ...</td>\n",
       "      <td>365291</td>\n",
       "    </tr>\n",
       "    <tr>\n",
       "      <th>32</th>\n",
       "      <td>2</td>\n",
       "      <td>rt latimes atmospheric rivers fueled by climat...</td>\n",
       "      <td>143471</td>\n",
       "    </tr>\n",
       "  </tbody>\n",
       "</table>\n",
       "</div>"
      ],
      "text/plain": [
       "    sentiment                                            message  tweetid\n",
       "2           2  rt rawstory researchers say we have three year...   698562\n",
       "12          2  rt tveitdal we only have a 5 percent chance of...   454673\n",
       "14          2  fossil fuel giant exxonmobil  misled  the publ...   658092\n",
       "26          2  bangladesh confronting climate change head on ...   365291\n",
       "32          2  rt latimes atmospheric rivers fueled by climat...   143471"
      ]
     },
     "execution_count": 44,
     "metadata": {},
     "output_type": "execute_result"
    }
   ],
   "source": [
    "sampled_df.head()"
   ]
  },
  {
   "cell_type": "markdown",
   "id": "4a75389e-4df5-48e0-935b-09cf6bf40268",
   "metadata": {},
   "source": [
    "#### 3.3.2 Lemmatization\n"
   ]
  },
  {
   "cell_type": "code",
   "execution_count": 45,
   "id": "9b16e3fa",
   "metadata": {},
   "outputs": [],
   "source": [
    "# init spacy\n",
    "nlp = spacy.load('en_core_web_sm')"
   ]
  },
  {
   "cell_type": "code",
   "execution_count": 46,
   "id": "62d09a83",
   "metadata": {},
   "outputs": [],
   "source": [
    "# lemmatize message\n",
    "sampled_df['final_message'] = sampled_df['message'].apply(lambda x: \" \".join([y.lemma_ for y in nlp(x)]))\n",
    "test_df['final_message'] = test_df['message'].apply(lambda x: \" \".join([y.lemma_ for y in nlp(x)]))"
   ]
  },
  {
   "cell_type": "code",
   "execution_count": 47,
   "id": "6bad9a79",
   "metadata": {},
   "outputs": [
    {
     "data": {
      "text/html": [
       "<div>\n",
       "<style scoped>\n",
       "    .dataframe tbody tr th:only-of-type {\n",
       "        vertical-align: middle;\n",
       "    }\n",
       "\n",
       "    .dataframe tbody tr th {\n",
       "        vertical-align: top;\n",
       "    }\n",
       "\n",
       "    .dataframe thead th {\n",
       "        text-align: right;\n",
       "    }\n",
       "</style>\n",
       "<table border=\"1\" class=\"dataframe\">\n",
       "  <thead>\n",
       "    <tr style=\"text-align: right;\">\n",
       "      <th></th>\n",
       "      <th>sentiment</th>\n",
       "      <th>message</th>\n",
       "      <th>tweetid</th>\n",
       "      <th>final_message</th>\n",
       "    </tr>\n",
       "  </thead>\n",
       "  <tbody>\n",
       "    <tr>\n",
       "      <th>2</th>\n",
       "      <td>2</td>\n",
       "      <td>rt rawstory researchers say we have three year...</td>\n",
       "      <td>698562</td>\n",
       "      <td>rt rawstory researcher say we have three year ...</td>\n",
       "    </tr>\n",
       "    <tr>\n",
       "      <th>12</th>\n",
       "      <td>2</td>\n",
       "      <td>rt tveitdal we only have a 5 percent chance of...</td>\n",
       "      <td>454673</td>\n",
       "      <td>rt tveitdal we only have a 5 percent chance of...</td>\n",
       "    </tr>\n",
       "    <tr>\n",
       "      <th>14</th>\n",
       "      <td>2</td>\n",
       "      <td>fossil fuel giant exxonmobil  misled  the publ...</td>\n",
       "      <td>658092</td>\n",
       "      <td>fossil fuel giant exxonmobil   mislead   the p...</td>\n",
       "    </tr>\n",
       "    <tr>\n",
       "      <th>26</th>\n",
       "      <td>2</td>\n",
       "      <td>bangladesh confronting climate change head on ...</td>\n",
       "      <td>365291</td>\n",
       "      <td>bangladesh confront climate change head on web...</td>\n",
       "    </tr>\n",
       "    <tr>\n",
       "      <th>32</th>\n",
       "      <td>2</td>\n",
       "      <td>rt latimes atmospheric rivers fueled by climat...</td>\n",
       "      <td>143471</td>\n",
       "      <td>rt latimes atmospheric river fuel by climate c...</td>\n",
       "    </tr>\n",
       "  </tbody>\n",
       "</table>\n",
       "</div>"
      ],
      "text/plain": [
       "    sentiment                                            message  tweetid  \\\n",
       "2           2  rt rawstory researchers say we have three year...   698562   \n",
       "12          2  rt tveitdal we only have a 5 percent chance of...   454673   \n",
       "14          2  fossil fuel giant exxonmobil  misled  the publ...   658092   \n",
       "26          2  bangladesh confronting climate change head on ...   365291   \n",
       "32          2  rt latimes atmospheric rivers fueled by climat...   143471   \n",
       "\n",
       "                                        final_message  \n",
       "2   rt rawstory researcher say we have three year ...  \n",
       "12  rt tveitdal we only have a 5 percent chance of...  \n",
       "14  fossil fuel giant exxonmobil   mislead   the p...  \n",
       "26  bangladesh confront climate change head on web...  \n",
       "32  rt latimes atmospheric river fuel by climate c...  "
      ]
     },
     "execution_count": 47,
     "metadata": {},
     "output_type": "execute_result"
    }
   ],
   "source": [
    "# view sampled_df \n",
    "sampled_df.head()"
   ]
  },
  {
   "cell_type": "markdown",
   "id": "810e9f84-3440-43f4-9dff-3bf954aa6de6",
   "metadata": {},
   "source": [
    "<a id=\"five\"></a>\n",
    "## 4. Modeling\n",
    "<a class=\"anchor\" id=\"1.1\"></a>\n",
    "<a href=#cont>Back to Table of Contents</a>\n"
   ]
  },
  {
   "cell_type": "markdown",
   "id": "02a9ccc2",
   "metadata": {},
   "source": [
    "- Extract Features and Labels\n",
    "- Split Data\n",
    "- Instantiate various Models\n",
    "- Train various Models\n",
    "- View various Models Performance\n",
    "- Create Pickle files for various Models"
   ]
  },
  {
   "cell_type": "code",
   "execution_count": 48,
   "id": "1c157271",
   "metadata": {},
   "outputs": [],
   "source": [
    "# feature and labels\n",
    "X = np.array(sampled_df['message'])\n",
    "y = np.array(sampled_df['sentiment'])"
   ]
  },
  {
   "cell_type": "code",
   "execution_count": 49,
   "id": "c403d431",
   "metadata": {},
   "outputs": [],
   "source": [
    "# split data\n",
    "X_train, X_test, y_train, y_test = train_test_split(X, y, test_size=0.25, random_state=27)"
   ]
  },
  {
   "cell_type": "code",
   "execution_count": 50,
   "metadata": {},
   "outputs": [],
   "source": [
    "# init LogisticRegression model\n",
    "logreg = Pipeline([('vect', TfidfVectorizer(stop_words='english')),\n",
    "                 ('tfidf', TfidfTransformer()),\n",
    "                 ('clf', LogisticRegression())])"
   ]
  },
  {
   "cell_type": "code",
   "execution_count": 51,
   "id": "5c28fde7",
   "metadata": {},
   "outputs": [],
   "source": [
    "# init RandomForestClassifier model\n",
    "rfc = Pipeline([('vect', TfidfVectorizer(stop_words='english')),\n",
    "                 ('tfidf', TfidfTransformer()),\n",
    "                 ('clf', RandomForestClassifier())])"
   ]
  },
  {
   "cell_type": "code",
   "execution_count": 52,
   "id": "5c28fde7",
   "metadata": {},
   "outputs": [],
   "source": [
    "# init KNeighborsClassifier model\n",
    "knn = Pipeline([('vect', TfidfVectorizer(stop_words='english')),\n",
    "                 ('tfidf', TfidfTransformer()),\n",
    "                 ('clf', KNeighborsClassifier())])"
   ]
  },
  {
   "cell_type": "code",
   "execution_count": 53,
   "id": "5c28fde7",
   "metadata": {},
   "outputs": [],
   "source": [
    "# init SVC model\n",
    "svc = Pipeline([('vect', TfidfVectorizer(stop_words='english')),\n",
    "                 ('tfidf', TfidfTransformer()),\n",
    "                 ('clf', SVC(kernel='rbf'))])"
   ]
  },
  {
   "cell_type": "code",
   "execution_count": 54,
   "id": "5c28fde7",
   "metadata": {},
   "outputs": [],
   "source": [
    "# init MultinomialNB model\n",
    "mnnb = Pipeline([('vect', TfidfVectorizer(stop_words='english')),\n",
    "                 ('tfidf', TfidfTransformer()),\n",
    "                 ('clf', MultinomialNB())])"
   ]
  },
  {
   "cell_type": "code",
   "execution_count": 63,
   "id": "cb9200fa",
   "metadata": {},
   "outputs": [
    {
     "name": "stderr",
     "output_type": "stream",
     "text": [
      "c:\\Users\\Roger Arendse\\AppData\\Local\\Programs\\Python\\Python310\\lib\\site-packages\\sklearn\\linear_model\\_logistic.py:444: ConvergenceWarning: lbfgs failed to converge (status=1):\n",
      "STOP: TOTAL NO. of ITERATIONS REACHED LIMIT.\n",
      "\n",
      "Increase the number of iterations (max_iter) or scale the data as shown in:\n",
      "    https://scikit-learn.org/stable/modules/preprocessing.html\n",
      "Please also refer to the documentation for alternative solver options:\n",
      "    https://scikit-learn.org/stable/modules/linear_model.html#logistic-regression\n",
      "  n_iter_i = _check_optimize_result(\n"
     ]
    }
   ],
   "source": [
    "# train logreg model\n",
    "logreg.fit(X_train, y_train)\n",
    "y_pred_logreg = logreg.predict(X_test)"
   ]
  },
  {
   "cell_type": "code",
   "execution_count": 64,
   "id": "cb9200fa",
   "metadata": {},
   "outputs": [
    {
     "name": "stderr",
     "output_type": "stream",
     "text": [
      "COMET ERROR: Failed to extract parameters from estimator\n"
     ]
    }
   ],
   "source": [
    "# train rfc model\n",
    "rfc.fit(X_train, y_train)\n",
    "y_pred_rfc = rfc.predict(X_test)"
   ]
  },
  {
   "cell_type": "code",
   "execution_count": 65,
   "id": "cb9200fa",
   "metadata": {},
   "outputs": [],
   "source": [
    "# train knn model\n",
    "knn.fit(X_train, y_train)\n",
    "y_pred_knn = knn.predict(X_test)"
   ]
  },
  {
   "cell_type": "code",
   "execution_count": 66,
   "id": "cb9200fa",
   "metadata": {},
   "outputs": [],
   "source": [
    "# train svc model\n",
    "svc.fit(X_train, y_train)\n",
    "y_pred_svc = svc.predict(X_test)"
   ]
  },
  {
   "cell_type": "code",
   "execution_count": 67,
   "id": "cb9200fa",
   "metadata": {},
   "outputs": [],
   "source": [
    "# train mnnb model\n",
    "mnnb.fit(X_train, y_train)\n",
    "y_pred_mnnb = mnnb.predict(X_test)"
   ]
  },
  {
   "cell_type": "markdown",
   "id": "7e345737",
   "metadata": {},
   "source": [
    "<a id=\"five\"></a>\n",
    "## 5. Model Performance\n",
    "<a class=\"anchor\" id=\"1.1\"></a>\n",
    "<a href=#cont>Back to Table of Contents</a>"
   ]
  },
  {
   "cell_type": "code",
   "execution_count": 68,
   "id": "166fc167",
   "metadata": {},
   "outputs": [],
   "source": [
    "# create logreg performance variables\n",
    "logreg_f1 = f1_score(y_test, y_pred_logreg, average='macro')\n",
    "logreg_accuracy = accuracy_score(y_test, y_pred_logreg)"
   ]
  },
  {
   "cell_type": "code",
   "execution_count": 69,
   "id": "166fc167",
   "metadata": {},
   "outputs": [],
   "source": [
    "# create rfc performance variables\n",
    "rfc_f1 = f1_score(y_test, y_pred_rfc, average='macro')\n",
    "rfc_accuracy = accuracy_score(y_test, y_pred_rfc)"
   ]
  },
  {
   "cell_type": "code",
   "execution_count": 70,
   "id": "166fc167",
   "metadata": {},
   "outputs": [],
   "source": [
    "# create knn performance variables\n",
    "knn_f1 = f1_score(y_test, y_pred_knn, average='macro')\n",
    "knn_accuracy = accuracy_score(y_test, y_pred_knn)"
   ]
  },
  {
   "cell_type": "code",
   "execution_count": 71,
   "id": "166fc167",
   "metadata": {},
   "outputs": [],
   "source": [
    "# create svc performance variables\n",
    "svc_f1 = f1_score(y_test, y_pred_svc, average='macro')\n",
    "svc_accuracy = accuracy_score(y_test, y_pred_svc)"
   ]
  },
  {
   "cell_type": "code",
   "execution_count": 72,
   "id": "166fc167",
   "metadata": {},
   "outputs": [],
   "source": [
    "# create mnnb performance variables\n",
    "mnnb_f1 = f1_score(y_test, y_pred_mnnb, average='macro')\n",
    "mnnb_accuracy = accuracy_score(y_test, y_pred_mnnb)"
   ]
  },
  {
   "cell_type": "code",
   "execution_count": 73,
   "id": "38fec488",
   "metadata": {},
   "outputs": [
    {
     "name": "stdout",
     "output_type": "stream",
     "text": [
      "LogisticRegression\n",
      "\n",
      "F1: 0.8023257040411493\n",
      "Accuracy: 0.8043956043956044\n",
      "\n",
      "RandomForest\n",
      "\n",
      "F1: 0.7901032563011408\n",
      "Accuracy: 0.7972527472527473\n",
      "\n",
      "KNeighbors\n",
      "\n",
      "F1: 0.620135067962081\n",
      "Accuracy: 0.6271978021978022\n",
      "\n",
      "SupportVector\n",
      "\n",
      "F1: 0.8348037506629203\n",
      "Accuracy: 0.8326923076923077\n",
      "\n",
      "MultinomialNB\n",
      "\n",
      "F1: 0.7613382099216224\n",
      "Accuracy: 0.7664835164835165\n"
     ]
    }
   ],
   "source": [
    "# view various models performance\n",
    "print('LogisticRegression\\n')\n",
    "print('F1: {}'.format(logreg_f1))\n",
    "print('Accuracy: {}\\n'.format(logreg_accuracy))\n",
    "print('RandomForest\\n')\n",
    "print('F1: {}'.format(rfc_f1))\n",
    "print('Accuracy: {}\\n'.format(rfc_accuracy))\n",
    "print('KNeighbors\\n')\n",
    "print('F1: {}'.format(knn_f1))\n",
    "print('Accuracy: {}\\n'.format(knn_accuracy))\n",
    "print('SupportVector\\n')\n",
    "print('F1: {}'.format(svc_f1))\n",
    "print('Accuracy: {}\\n'.format(svc_accuracy))\n",
    "print('MultinomialNB\\n')\n",
    "print('F1: {}'.format(mnnb_f1))\n",
    "print('Accuracy: {}'.format(mnnb_accuracy))"
   ]
  },
  {
   "cell_type": "code",
   "execution_count": 90,
   "id": "683a9ebc",
   "metadata": {},
   "outputs": [
    {
     "data": {
      "image/png": "[encoded data removed]",
      "text/plain": [
       "<Figure size 576x576 with 1 Axes>"
      ]
     },
     "metadata": {},
     "output_type": "display_data"
    }
   ],
   "source": [
    "# view model performance comparison\n",
    "sns.set(rc = {'figure.figsize':(8,8)})\n",
    "c = ['red', 'yellow', 'black', 'blue', 'orange']\n",
    "labels = ['svc', 'logreg', 'rfc', 'mnnb', 'knn']\n",
    "model_accuracy = [round(svc_accuracy*100, 1), round(logreg_accuracy*100, 1), round(rfc_accuracy*100, 1), round(mnnb_accuracy*100, 1), round(knn_accuracy*100, 1)]\n",
    "plt.bar(labels, model_accuracy, color=c)\n",
    "plt.title('Model Comparison', fontsize=25)\n",
    "plt.xticks(labels, fontsize=15)\n",
    "plt.ylabel(\"Accuracy\", fontsize=15)\n",
    "plt.show()"
   ]
  },
  {
   "cell_type": "code",
   "execution_count": 74,
   "id": "2e0cef77",
   "metadata": {},
   "outputs": [],
   "source": [
    "# create dictionary to store parameters and metrics\n",
    "params = { \n",
    "    'test_size': 0.25,\n",
    "    'random_state': 27,\n",
    "    'model_type_1': 'logreg',\n",
    "    'model_type_2': 'rfc',\n",
    "    'model_type_3': 'knn',\n",
    "    'model_type_4': 'svc',\n",
    "    'model_type_5': 'mnnb'\n",
    "\n",
    "}\n",
    "\n",
    "metrics = {\n",
    "    'logreg_f1': logreg_f1, \n",
    "    'logreg_accuracy': logreg_accuracy,\n",
    "    'rfc_f1': rfc_f1,\n",
    "    'rfc_accuracy': rfc_accuracy,\n",
    "    'knn_f1': knn_f1,\n",
    "    'knn_accuracy': knn_accuracy, \n",
    "    'svc_f1': svc_f1,\n",
    "    'svc_accuracy': svc_accuracy,\n",
    "    'mnnb_f1': mnnb_f1,\n",
    "    'mnnb_accuracy': mnnb_accuracy\n",
    "}"
   ]
  },
  {
   "cell_type": "code",
   "execution_count": 75,
   "id": "09461463",
   "metadata": {},
   "outputs": [],
   "source": [
    "# log parameters and results\n",
    "experiment.log_parameters(params)\n",
    "experiment.log_metrics(metrics)"
   ]
  },
  {
   "cell_type": "code",
   "execution_count": 76,
   "id": "1d44e167",
   "metadata": {},
   "outputs": [
    {
     "name": "stderr",
     "output_type": "stream",
     "text": [
      "COMET INFO: ---------------------------\n",
      "COMET INFO: Comet.ml Experiment Summary\n",
      "COMET INFO: ---------------------------\n",
      "COMET INFO:   Data:\n",
      "COMET INFO:     display_summary_level : 1\n",
      "COMET INFO:     url                   : https://www.comet.ml/rogera11/climate-change-belief-analysis/b6bee83a4e0f45beb02e8c4c7b04b2bb\n",
      "COMET INFO:   Metrics:\n",
      "COMET INFO:     knn_accuracy    : 0.6271978021978022\n",
      "COMET INFO:     knn_f1          : 0.620135067962081\n",
      "COMET INFO:     logreg_accuracy : 0.8043956043956044\n",
      "COMET INFO:     logreg_f1       : 0.8023257040411493\n",
      "COMET INFO:     mnnb_accuracy   : 0.7664835164835165\n",
      "COMET INFO:     mnnb_f1         : 0.7613382099216224\n",
      "COMET INFO:     rfc_accuracy    : 0.7972527472527473\n",
      "COMET INFO:     rfc_f1          : 0.7901032563011408\n",
      "COMET INFO:     svc_accuracy    : 0.8326923076923077\n",
      "COMET INFO:     svc_f1          : 0.8348037506629203\n",
      "COMET INFO:   Parameters:\n",
      "COMET INFO:     C                             : 1.0\n",
      "COMET INFO:     algorithm                     : auto\n",
      "COMET INFO:     alpha                         : 1.0\n",
      "COMET INFO:     bootstrap                     : True\n",
      "COMET INFO:     break_ties                    : False\n",
      "COMET INFO:     cache_size                    : 200\n",
      "COMET INFO:     ccp_alpha                     : 0.0\n",
      "COMET INFO:     class_prior                   : 1\n",
      "COMET INFO:     class_weight                  : 1\n",
      "COMET INFO:     clf                           : MultinomialNB()\n",
      "COMET INFO:     clf_C                         : 1.0\n",
      "COMET INFO:     clf__C                        : 1.0\n",
      "COMET INFO:     clf__algorithm                : auto\n",
      "COMET INFO:     clf__alpha                    : 1.0\n",
      "COMET INFO:     clf__bootstrap                : True\n",
      "COMET INFO:     clf__break_ties               : False\n",
      "COMET INFO:     clf__cache_size               : 200\n",
      "COMET INFO:     clf__ccp_alpha                : 0.0\n",
      "COMET INFO:     clf__class_prior              : 1\n",
      "COMET INFO:     clf__class_weight             : 1\n",
      "COMET INFO:     clf__coef0                    : 0.0\n",
      "COMET INFO:     clf__criterion                : gini\n",
      "COMET INFO:     clf__decision_function_shape  : ovr\n",
      "COMET INFO:     clf__degree                   : 3\n",
      "COMET INFO:     clf__dual                     : False\n",
      "COMET INFO:     clf__fit_intercept            : True\n",
      "COMET INFO:     clf__fit_prior                : True\n",
      "COMET INFO:     clf__gamma                    : scale\n",
      "COMET INFO:     clf__intercept_scaling        : 1\n",
      "COMET INFO:     clf__kernel                   : rbf\n",
      "COMET INFO:     clf__l1_ratio                 : 1\n",
      "COMET INFO:     clf__leaf_size                : 30\n",
      "COMET INFO:     clf__max_depth                : 1\n",
      "COMET INFO:     clf__max_features             : sqrt\n",
      "COMET INFO:     clf__max_iter                 : -1\n",
      "COMET INFO:     clf__max_leaf_nodes           : 1\n",
      "COMET INFO:     clf__max_samples              : 1\n",
      "COMET INFO:     clf__metric                   : minkowski\n",
      "COMET INFO:     clf__metric_params            : 1\n",
      "COMET INFO:     clf__min_impurity_decrease    : 0.0\n",
      "COMET INFO:     clf__min_samples_leaf         : 1\n",
      "COMET INFO:     clf__min_samples_split        : 2\n",
      "COMET INFO:     clf__min_weight_fraction_leaf : 0.0\n",
      "COMET INFO:     clf__multi_class              : auto\n",
      "COMET INFO:     clf__n_estimators             : 100\n",
      "COMET INFO:     clf__n_jobs                   : 1\n",
      "COMET INFO:     clf__n_neighbors              : 5\n",
      "COMET INFO:     clf__oob_score                : False\n",
      "COMET INFO:     clf__p                        : 2\n",
      "COMET INFO:     clf__penalty                  : l2\n",
      "COMET INFO:     clf__probability              : False\n",
      "COMET INFO:     clf__random_state             : 1\n",
      "COMET INFO:     clf__shrinking                : True\n",
      "COMET INFO:     clf__solver                   : lbfgs\n",
      "COMET INFO:     clf__tol                      : 0.001\n",
      "COMET INFO:     clf__verbose                  : 0\n",
      "COMET INFO:     clf__warm_start               : False\n",
      "COMET INFO:     clf__weights                  : uniform\n",
      "COMET INFO:     clf_algorithm                 : auto\n",
      "COMET INFO:     clf_alpha                     : 1.0\n",
      "COMET INFO:     clf_bootstrap                 : True\n",
      "COMET INFO:     clf_break_ties                : False\n",
      "COMET INFO:     clf_cache_size                : 200\n",
      "COMET INFO:     clf_ccp_alpha                 : 0.0\n",
      "COMET INFO:     clf_class_prior               : 1\n",
      "COMET INFO:     clf_class_weight              : 1\n",
      "COMET INFO:     clf_coef0                     : 0.0\n",
      "COMET INFO:     clf_criterion                 : gini\n",
      "COMET INFO:     clf_decision_function_shape   : ovr\n",
      "COMET INFO:     clf_degree                    : 3\n",
      "COMET INFO:     clf_dual                      : False\n",
      "COMET INFO:     clf_fit_intercept             : True\n",
      "COMET INFO:     clf_fit_prior                 : True\n",
      "COMET INFO:     clf_gamma                     : scale\n",
      "COMET INFO:     clf_intercept_scaling         : 1\n",
      "COMET INFO:     clf_kernel                    : rbf\n",
      "COMET INFO:     clf_l1_ratio                  : 1\n",
      "COMET INFO:     clf_leaf_size                 : 30\n",
      "COMET INFO:     clf_max_depth                 : 1\n",
      "COMET INFO:     clf_max_features              : sqrt\n",
      "COMET INFO:     clf_max_iter                  : -1\n",
      "COMET INFO:     clf_max_leaf_nodes            : 1\n",
      "COMET INFO:     clf_max_samples               : 1\n",
      "COMET INFO:     clf_metric                    : minkowski\n",
      "COMET INFO:     clf_metric_params             : 1\n",
      "COMET INFO:     clf_min_impurity_decrease     : 0.0\n",
      "COMET INFO:     clf_min_samples_leaf          : 1\n",
      "COMET INFO:     clf_min_samples_split         : 2\n",
      "COMET INFO:     clf_min_weight_fraction_leaf  : 0.0\n",
      "COMET INFO:     clf_multi_class               : auto\n",
      "COMET INFO:     clf_n_estimators              : 100\n",
      "COMET INFO:     clf_n_jobs                    : 1\n",
      "COMET INFO:     clf_n_neighbors               : 5\n",
      "COMET INFO:     clf_oob_score                 : False\n",
      "COMET INFO:     clf_p                         : 2\n",
      "COMET INFO:     clf_penalty                   : l2\n",
      "COMET INFO:     clf_probability               : False\n",
      "COMET INFO:     clf_random_state              : 1\n",
      "COMET INFO:     clf_shrinking                 : True\n",
      "COMET INFO:     clf_solver                    : lbfgs\n",
      "COMET INFO:     clf_tol                       : 0.001\n",
      "COMET INFO:     clf_verbose                   : 0\n",
      "COMET INFO:     clf_warm_start                : False\n",
      "COMET INFO:     clf_weights                   : uniform\n",
      "COMET INFO:     coef0                         : 0.0\n",
      "COMET INFO:     criterion                     : gini\n",
      "COMET INFO:     decision_function_shape       : ovr\n",
      "COMET INFO:     degree                        : 3\n",
      "COMET INFO:     dual                          : False\n",
      "COMET INFO:     fit_intercept                 : True\n",
      "COMET INFO:     fit_prior                     : True\n",
      "COMET INFO:     gamma                         : scale\n",
      "COMET INFO:     intercept_scaling             : 1\n",
      "COMET INFO:     kernel                        : rbf\n",
      "COMET INFO:     l1_ratio                      : 1\n",
      "COMET INFO:     leaf_size                     : 30\n",
      "COMET INFO:     max_depth                     : 1\n",
      "COMET INFO:     max_features                  : sqrt\n",
      "COMET INFO:     max_iter                      : -1\n",
      "COMET INFO:     max_leaf_nodes                : 1\n",
      "COMET INFO:     max_samples                   : 1\n",
      "COMET INFO:     memory                        : 1\n",
      "COMET INFO:     metric                        : minkowski\n",
      "COMET INFO:     metric_params                 : 1\n",
      "COMET INFO:     min_impurity_decrease         : 0.0\n",
      "COMET INFO:     min_samples_leaf              : 1\n",
      "COMET INFO:     min_samples_split             : 2\n",
      "COMET INFO:     min_weight_fraction_leaf      : 0.0\n",
      "COMET INFO:     model_type_1                  : logreg\n",
      "COMET INFO:     model_type_2                  : rfc\n",
      "COMET INFO:     model_type_3                  : knn\n",
      "COMET INFO:     model_type_4                  : svc\n",
      "COMET INFO:     model_type_5                  : mnnb\n",
      "COMET INFO:     multi_class                   : auto\n",
      "COMET INFO:     n_estimators                  : 100\n",
      "COMET INFO:     n_jobs                        : 1\n",
      "COMET INFO:     n_neighbors                   : 5\n",
      "COMET INFO:     neg_label                     : 0\n",
      "COMET INFO:     norm                          : l2\n",
      "COMET INFO:     oob_score                     : False\n",
      "COMET INFO:     p                             : 2\n",
      "COMET INFO:     penalty                       : l2\n",
      "COMET INFO:     pos_label                     : 1\n",
      "COMET INFO:     probability                   : False\n",
      "COMET INFO:     random_state                  : 27\n",
      "COMET INFO:     shrinking                     : True\n",
      "COMET INFO:     smooth_idf                    : True\n",
      "COMET INFO:     solver                        : lbfgs\n",
      "COMET INFO:     sparse_output                 : False\n",
      "COMET INFO:     splitter                      : best\n",
      "COMET INFO:     steps                         : [('vect', TfidfVectorizer(stop_words='english')), ('tfidf', TfidfTransformer()), ('clf', MultinomialNB())]\n",
      "COMET INFO:     sublinear_tf                  : False\n",
      "COMET INFO:     test_size                     : 0.25\n",
      "COMET INFO:     tfidf                         : TfidfTransformer()\n",
      "COMET INFO:     tfidf__norm                   : l2\n",
      "COMET INFO:     tfidf__smooth_idf             : True\n",
      "COMET INFO:     tfidf__sublinear_tf           : False\n",
      "COMET INFO:     tfidf__use_idf                : True\n",
      "COMET INFO:     tfidf_norm                    : l2\n",
      "COMET INFO:     tfidf_smooth_idf              : True\n",
      "COMET INFO:     tfidf_sublinear_tf            : False\n",
      "COMET INFO:     tfidf_use_idf                 : True\n",
      "COMET INFO:     tol                           : 0.001\n",
      "COMET INFO:     use_idf                       : True\n",
      "COMET INFO:     vect                          : TfidfVectorizer(stop_words='english')\n",
      "COMET INFO:     vect__analyzer                : word\n",
      "COMET INFO:     vect__binary                  : False\n",
      "COMET INFO:     vect__decode_error            : strict\n",
      "COMET INFO:     vect__dtype                   : <class 'numpy.float64'>\n",
      "COMET INFO:     vect__encoding                : utf-8\n",
      "COMET INFO:     vect__input                   : content\n",
      "COMET INFO:     vect__lowercase               : True\n",
      "COMET INFO:     vect__max_df                  : 1.0\n",
      "COMET INFO:     vect__max_features            : 1\n",
      "COMET INFO:     vect__min_df                  : 1\n",
      "COMET INFO:     vect__ngram_range             : (1, 1)\n",
      "COMET INFO:     vect__norm                    : l2\n",
      "COMET INFO:     vect__preprocessor            : 1\n",
      "COMET INFO:     vect__smooth_idf              : True\n",
      "COMET INFO:     vect__stop_words              : english\n",
      "COMET INFO:     vect__strip_accents           : 1\n",
      "COMET INFO:     vect__sublinear_tf            : False\n",
      "COMET INFO:     vect__token_pattern           : (?u)\\b\\w\\w+\\b\n",
      "COMET INFO:     vect__tokenizer               : 1\n",
      "COMET INFO:     vect__use_idf                 : True\n",
      "COMET INFO:     vect__vocabulary              : 1\n",
      "COMET INFO:     vect_analyzer                 : word\n",
      "COMET INFO:     vect_binary                   : False\n",
      "COMET INFO:     vect_decode_error             : strict\n",
      "COMET INFO:     vect_dtype                    : <class 'numpy.float64'>\n",
      "COMET INFO:     vect_encoding                 : utf-8\n",
      "COMET INFO:     vect_input                    : content\n",
      "COMET INFO:     vect_lowercase                : True\n",
      "COMET INFO:     vect_max_df                   : 1.0\n",
      "COMET INFO:     vect_max_features             : 1\n",
      "COMET INFO:     vect_min_df                   : 1\n",
      "COMET INFO:     vect_ngram_range              : (1, 1)\n",
      "COMET INFO:     vect_norm                     : l2\n",
      "COMET INFO:     vect_preprocessor             : 1\n",
      "COMET INFO:     vect_smooth_idf               : True\n",
      "COMET INFO:     vect_stop_words               : english\n",
      "COMET INFO:     vect_strip_accents            : 1\n",
      "COMET INFO:     vect_sublinear_tf             : False\n",
      "COMET INFO:     vect_token_pattern            : (?u)\\b\\w\\w+\\b\n",
      "COMET INFO:     vect_tokenizer                : 1\n",
      "COMET INFO:     vect_use_idf                  : True\n",
      "COMET INFO:     vect_vocabulary               : 1\n",
      "COMET INFO:     verbose                       : False\n",
      "COMET INFO:     warm_start                    : False\n",
      "COMET INFO:     weights                       : uniform\n",
      "COMET INFO:   Uploads:\n",
      "COMET INFO:     environment details : 1\n",
      "COMET INFO:     filename            : 1\n",
      "COMET INFO:     git metadata        : 1\n",
      "COMET INFO:     installed packages  : 1\n",
      "COMET INFO:     notebook            : 1\n",
      "COMET INFO:     source_code         : 1\n",
      "COMET INFO: ---------------------------\n",
      "COMET INFO: Uploading metrics, params, and assets to Comet before program termination (may take several seconds)\n",
      "COMET INFO: The Python SDK has 3600 seconds to finish before aborting...\n"
     ]
    }
   ],
   "source": [
    "# end comet experiment\n",
    "experiment.end()"
   ]
  },
  {
   "cell_type": "code",
   "execution_count": null,
   "id": "2f50f57e",
   "metadata": {},
   "outputs": [],
   "source": [
    "# create logreg pickle file\n",
    "import pickle\n",
    "\n",
    "model_save_path = 'Logistic_Regression.pkl'\n",
    "with open(model_save_path, 'wb') as file:\n",
    "    pickle.dump(logreg, file)"
   ]
  },
  {
   "cell_type": "code",
   "execution_count": null,
   "id": "2f50f57e",
   "metadata": {},
   "outputs": [],
   "source": [
    "# create rfc pickle file\n",
    "import pickle\n",
    "\n",
    "model_save_path = 'Random_Forest.pkl'\n",
    "with open(model_save_path, 'wb') as file:\n",
    "    pickle.dump(rfc, file)"
   ]
  },
  {
   "cell_type": "code",
   "execution_count": null,
   "id": "2f50f57e",
   "metadata": {},
   "outputs": [],
   "source": [
    "# create knn pickle file\n",
    "import pickle\n",
    "\n",
    "model_save_path = 'knn.pkl'\n",
    "with open(model_save_path, 'wb') as file:\n",
    "    pickle.dump(knn, file)"
   ]
  },
  {
   "cell_type": "code",
   "execution_count": null,
   "id": "2f50f57e",
   "metadata": {},
   "outputs": [],
   "source": [
    "# create svc pickle file\n",
    "import pickle\n",
    "\n",
    "model_save_path = 'Support_Vector_Machine.pkl'\n",
    "with open(model_save_path, 'wb') as file:\n",
    "    pickle.dump(svc, file)"
   ]
  },
  {
   "cell_type": "code",
   "execution_count": null,
   "id": "2f50f57e",
   "metadata": {},
   "outputs": [],
   "source": [
    "# create mnnb pickle file\n",
    "import pickle\n",
    "\n",
    "model_save_path = 'Multinomial_NB.pkl'\n",
    "with open(model_save_path, 'wb') as file:\n",
    "    pickle.dump(mnnb, file)"
   ]
  },
  {
   "cell_type": "markdown",
   "id": "8ace7a98-ede1-41de-aa49-8a764c8e3d1f",
   "metadata": {},
   "source": [
    "<a id=\"nine\"></a>\n",
    "## 6. Kaggle Submission\n",
    "<a class=\"anchor\" id=\"1.1\"></a>\n",
    "<a href=#cont>Back to Table of Contents</a>\n"
   ]
  },
  {
   "cell_type": "code",
   "execution_count": 77,
   "id": "656db675",
   "metadata": {},
   "outputs": [],
   "source": [
    "# vectorize feature for test_df\n",
    "X_feature = test_df['message']\n",
    "\n",
    "# prediction \n",
    "logreg_pred = logreg.predict(X_feature)\n",
    "rfc_pred = rfc.predict(X_feature)\n",
    "knn_pred = knn.predict(X_feature)\n",
    "svc_pred = svc.predict(X_feature)\n",
    "mnnb_pred = mnnb.predict(X_feature)\n"
   ]
  },
  {
   "cell_type": "code",
   "execution_count": 78,
   "id": "45a44f6f",
   "metadata": {},
   "outputs": [],
   "source": [
    "# create submission dataframe\n",
    "submission_logreg = pd.DataFrame({'tweetid': test_df.tweetid,\n",
    "                       'sentiment': logreg_pred})\n",
    "submission_rfc = pd.DataFrame({'tweetid': test_df.tweetid,\n",
    "                       'sentiment': rfc_pred})\n",
    "submission_knn = pd.DataFrame({'tweetid': test_df.tweetid,\n",
    "                       'sentiment': knn_pred})\n",
    "submission_svc = pd.DataFrame({'tweetid': test_df.tweetid,\n",
    "                       'sentiment': svc_pred})\n",
    "submission_mnnb = pd.DataFrame({'tweetid': test_df.tweetid,\n",
    "                       'sentiment': mnnb_pred})\n",
    "\n",
    "# create submission file\n",
    "submission_logreg.to_csv('Submissions/TeamGm4_Submission_7_logreg.csv', index=False)\n",
    "submission_rfc.to_csv('Submissions/TeamGm4_Submission_8_rfc.csv', index=False)\n",
    "submission_knn.to_csv('Submissions/TeamGm4_Submission_9_knn.csv', index=False)\n",
    "submission_svc.to_csv('Submissions/TeamGm4_Submission_10_svc.csv', index=False)\n",
    "submission_mnnb.to_csv('Submissions/TeamGm4_Submission_11_mnnb.csv', index=False)\n"
   ]
  }
 ],
 "metadata": {
  "kernelspec": {
   "display_name": "Python 3.10.1 64-bit",
   "language": "python",
   "name": "python3"
  },
  "language_info": {
   "codemirror_mode": {
    "name": "ipython",
    "version": 3
   },
   "file_extension": ".py",
   "mimetype": "text/x-python",
   "name": "python",
   "nbconvert_exporter": "python",
   "pygments_lexer": "ipython3",
   "version": "3.10.1"
  },
  "vscode": {
   "interpreter": {
    "hash": "725abf89c5178708028d2cdee8f8084e55b95a39bb132202c1931af3e7039d25"
   }
  }
 },
 "nbformat": 4,
 "nbformat_minor": 5
}
